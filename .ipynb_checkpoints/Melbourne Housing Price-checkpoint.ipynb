{
 "cells": [
  {
   "cell_type": "code",
   "execution_count": 603,
   "id": "25e1d352-6165-472c-bc0a-875f6284f3e3",
   "metadata": {},
   "outputs": [],
   "source": [
    "import numpy as np\n",
    "import pandas as pd\n",
    "import matplotlib.pyplot as plt\n",
    "import seaborn as sns\n",
    "\n",
    "%matplotlib inline"
   ]
  },
  {
   "cell_type": "code",
   "execution_count": 604,
   "id": "7d767098-e699-4b9a-9cbf-10b34bf77e99",
   "metadata": {},
   "outputs": [
    {
     "data": {
      "text/html": [
       "<div>\n",
       "<style scoped>\n",
       "    .dataframe tbody tr th:only-of-type {\n",
       "        vertical-align: middle;\n",
       "    }\n",
       "\n",
       "    .dataframe tbody tr th {\n",
       "        vertical-align: top;\n",
       "    }\n",
       "\n",
       "    .dataframe thead th {\n",
       "        text-align: right;\n",
       "    }\n",
       "</style>\n",
       "<table border=\"1\" class=\"dataframe\">\n",
       "  <thead>\n",
       "    <tr style=\"text-align: right;\">\n",
       "      <th></th>\n",
       "      <th>Suburb</th>\n",
       "      <th>Address</th>\n",
       "      <th>Rooms</th>\n",
       "      <th>Type</th>\n",
       "      <th>Price</th>\n",
       "      <th>Method</th>\n",
       "      <th>SellerG</th>\n",
       "      <th>Date</th>\n",
       "      <th>Distance</th>\n",
       "      <th>Postcode</th>\n",
       "      <th>...</th>\n",
       "      <th>Bathroom</th>\n",
       "      <th>Car</th>\n",
       "      <th>Landsize</th>\n",
       "      <th>BuildingArea</th>\n",
       "      <th>YearBuilt</th>\n",
       "      <th>CouncilArea</th>\n",
       "      <th>Lattitude</th>\n",
       "      <th>Longtitude</th>\n",
       "      <th>Regionname</th>\n",
       "      <th>Propertycount</th>\n",
       "    </tr>\n",
       "  </thead>\n",
       "  <tbody>\n",
       "    <tr>\n",
       "      <th>0</th>\n",
       "      <td>Abbotsford</td>\n",
       "      <td>68 Studley St</td>\n",
       "      <td>2</td>\n",
       "      <td>h</td>\n",
       "      <td>NaN</td>\n",
       "      <td>SS</td>\n",
       "      <td>Jellis</td>\n",
       "      <td>3/09/2016</td>\n",
       "      <td>2.5</td>\n",
       "      <td>3067.0</td>\n",
       "      <td>...</td>\n",
       "      <td>1.0</td>\n",
       "      <td>1.0</td>\n",
       "      <td>126.0</td>\n",
       "      <td>NaN</td>\n",
       "      <td>NaN</td>\n",
       "      <td>Yarra City Council</td>\n",
       "      <td>-37.8014</td>\n",
       "      <td>144.9958</td>\n",
       "      <td>Northern Metropolitan</td>\n",
       "      <td>4019.0</td>\n",
       "    </tr>\n",
       "    <tr>\n",
       "      <th>1</th>\n",
       "      <td>Abbotsford</td>\n",
       "      <td>85 Turner St</td>\n",
       "      <td>2</td>\n",
       "      <td>h</td>\n",
       "      <td>1480000.0</td>\n",
       "      <td>S</td>\n",
       "      <td>Biggin</td>\n",
       "      <td>3/12/2016</td>\n",
       "      <td>2.5</td>\n",
       "      <td>3067.0</td>\n",
       "      <td>...</td>\n",
       "      <td>1.0</td>\n",
       "      <td>1.0</td>\n",
       "      <td>202.0</td>\n",
       "      <td>NaN</td>\n",
       "      <td>NaN</td>\n",
       "      <td>Yarra City Council</td>\n",
       "      <td>-37.7996</td>\n",
       "      <td>144.9984</td>\n",
       "      <td>Northern Metropolitan</td>\n",
       "      <td>4019.0</td>\n",
       "    </tr>\n",
       "    <tr>\n",
       "      <th>2</th>\n",
       "      <td>Abbotsford</td>\n",
       "      <td>25 Bloomburg St</td>\n",
       "      <td>2</td>\n",
       "      <td>h</td>\n",
       "      <td>1035000.0</td>\n",
       "      <td>S</td>\n",
       "      <td>Biggin</td>\n",
       "      <td>4/02/2016</td>\n",
       "      <td>2.5</td>\n",
       "      <td>3067.0</td>\n",
       "      <td>...</td>\n",
       "      <td>1.0</td>\n",
       "      <td>0.0</td>\n",
       "      <td>156.0</td>\n",
       "      <td>79.0</td>\n",
       "      <td>1900.0</td>\n",
       "      <td>Yarra City Council</td>\n",
       "      <td>-37.8079</td>\n",
       "      <td>144.9934</td>\n",
       "      <td>Northern Metropolitan</td>\n",
       "      <td>4019.0</td>\n",
       "    </tr>\n",
       "    <tr>\n",
       "      <th>3</th>\n",
       "      <td>Abbotsford</td>\n",
       "      <td>18/659 Victoria St</td>\n",
       "      <td>3</td>\n",
       "      <td>u</td>\n",
       "      <td>NaN</td>\n",
       "      <td>VB</td>\n",
       "      <td>Rounds</td>\n",
       "      <td>4/02/2016</td>\n",
       "      <td>2.5</td>\n",
       "      <td>3067.0</td>\n",
       "      <td>...</td>\n",
       "      <td>2.0</td>\n",
       "      <td>1.0</td>\n",
       "      <td>0.0</td>\n",
       "      <td>NaN</td>\n",
       "      <td>NaN</td>\n",
       "      <td>Yarra City Council</td>\n",
       "      <td>-37.8114</td>\n",
       "      <td>145.0116</td>\n",
       "      <td>Northern Metropolitan</td>\n",
       "      <td>4019.0</td>\n",
       "    </tr>\n",
       "    <tr>\n",
       "      <th>4</th>\n",
       "      <td>Abbotsford</td>\n",
       "      <td>5 Charles St</td>\n",
       "      <td>3</td>\n",
       "      <td>h</td>\n",
       "      <td>1465000.0</td>\n",
       "      <td>SP</td>\n",
       "      <td>Biggin</td>\n",
       "      <td>4/03/2017</td>\n",
       "      <td>2.5</td>\n",
       "      <td>3067.0</td>\n",
       "      <td>...</td>\n",
       "      <td>2.0</td>\n",
       "      <td>0.0</td>\n",
       "      <td>134.0</td>\n",
       "      <td>150.0</td>\n",
       "      <td>1900.0</td>\n",
       "      <td>Yarra City Council</td>\n",
       "      <td>-37.8093</td>\n",
       "      <td>144.9944</td>\n",
       "      <td>Northern Metropolitan</td>\n",
       "      <td>4019.0</td>\n",
       "    </tr>\n",
       "  </tbody>\n",
       "</table>\n",
       "<p>5 rows × 21 columns</p>\n",
       "</div>"
      ],
      "text/plain": [
       "       Suburb             Address  Rooms Type      Price Method SellerG  \\\n",
       "0  Abbotsford       68 Studley St      2    h        NaN     SS  Jellis   \n",
       "1  Abbotsford        85 Turner St      2    h  1480000.0      S  Biggin   \n",
       "2  Abbotsford     25 Bloomburg St      2    h  1035000.0      S  Biggin   \n",
       "3  Abbotsford  18/659 Victoria St      3    u        NaN     VB  Rounds   \n",
       "4  Abbotsford        5 Charles St      3    h  1465000.0     SP  Biggin   \n",
       "\n",
       "        Date  Distance  Postcode  ...  Bathroom  Car  Landsize  BuildingArea  \\\n",
       "0  3/09/2016       2.5    3067.0  ...       1.0  1.0     126.0           NaN   \n",
       "1  3/12/2016       2.5    3067.0  ...       1.0  1.0     202.0           NaN   \n",
       "2  4/02/2016       2.5    3067.0  ...       1.0  0.0     156.0          79.0   \n",
       "3  4/02/2016       2.5    3067.0  ...       2.0  1.0       0.0           NaN   \n",
       "4  4/03/2017       2.5    3067.0  ...       2.0  0.0     134.0         150.0   \n",
       "\n",
       "   YearBuilt         CouncilArea Lattitude  Longtitude             Regionname  \\\n",
       "0        NaN  Yarra City Council  -37.8014    144.9958  Northern Metropolitan   \n",
       "1        NaN  Yarra City Council  -37.7996    144.9984  Northern Metropolitan   \n",
       "2     1900.0  Yarra City Council  -37.8079    144.9934  Northern Metropolitan   \n",
       "3        NaN  Yarra City Council  -37.8114    145.0116  Northern Metropolitan   \n",
       "4     1900.0  Yarra City Council  -37.8093    144.9944  Northern Metropolitan   \n",
       "\n",
       "  Propertycount  \n",
       "0        4019.0  \n",
       "1        4019.0  \n",
       "2        4019.0  \n",
       "3        4019.0  \n",
       "4        4019.0  \n",
       "\n",
       "[5 rows x 21 columns]"
      ]
     },
     "execution_count": 604,
     "metadata": {},
     "output_type": "execute_result"
    }
   ],
   "source": [
    "# https://www.kaggle.com/datasets/anthonypino/melbourne-housing-market\n",
    "DATASET_URL = \"./data/melbourne_housing.csv\"\n",
    "\n",
    "df = pd.read_csv(DATASET_URL)\n",
    "df.head()"
   ]
  },
  {
   "cell_type": "markdown",
   "id": "2e83ece5-5d84-4eea-99a8-ff741ff62ede",
   "metadata": {},
   "source": [
    "# Data Exploration"
   ]
  },
  {
   "cell_type": "code",
   "execution_count": 605,
   "id": "1fe28084-ffd6-4129-9972-e15e0c201322",
   "metadata": {},
   "outputs": [
    {
     "name": "stdout",
     "output_type": "stream",
     "text": [
      "<class 'pandas.core.frame.DataFrame'>\n",
      "RangeIndex: 34857 entries, 0 to 34856\n",
      "Data columns (total 21 columns):\n",
      " #   Column         Non-Null Count  Dtype  \n",
      "---  ------         --------------  -----  \n",
      " 0   Suburb         34857 non-null  object \n",
      " 1   Address        34857 non-null  object \n",
      " 2   Rooms          34857 non-null  int64  \n",
      " 3   Type           34857 non-null  object \n",
      " 4   Price          27247 non-null  float64\n",
      " 5   Method         34857 non-null  object \n",
      " 6   SellerG        34857 non-null  object \n",
      " 7   Date           34857 non-null  object \n",
      " 8   Distance       34856 non-null  float64\n",
      " 9   Postcode       34856 non-null  float64\n",
      " 10  Bedroom2       26640 non-null  float64\n",
      " 11  Bathroom       26631 non-null  float64\n",
      " 12  Car            26129 non-null  float64\n",
      " 13  Landsize       23047 non-null  float64\n",
      " 14  BuildingArea   13742 non-null  float64\n",
      " 15  YearBuilt      15551 non-null  float64\n",
      " 16  CouncilArea    34854 non-null  object \n",
      " 17  Lattitude      26881 non-null  float64\n",
      " 18  Longtitude     26881 non-null  float64\n",
      " 19  Regionname     34854 non-null  object \n",
      " 20  Propertycount  34854 non-null  float64\n",
      "dtypes: float64(12), int64(1), object(8)\n",
      "memory usage: 5.6+ MB\n"
     ]
    }
   ],
   "source": [
    "# What columns are there and how many of them have null values?\n",
    "df.info()"
   ]
  },
  {
   "cell_type": "markdown",
   "id": "925f1ce9-3a16-46d3-b919-9917bee6144d",
   "metadata": {},
   "source": [
    "**Suburb Column**"
   ]
  },
  {
   "cell_type": "code",
   "execution_count": 606,
   "id": "47fef3c4-f04f-4fb6-8868-f98635e404c6",
   "metadata": {},
   "outputs": [
    {
     "data": {
      "text/plain": [
       "Suburb\n",
       "Reservoir          844\n",
       "Bentleigh East     583\n",
       "Richmond           552\n",
       "Glen Iris          491\n",
       "Preston            485\n",
       "                  ... \n",
       "Belgrave             1\n",
       "Cranbourne East      1\n",
       "Yarra Glen           1\n",
       "Olinda               1\n",
       "Menzies Creek        1\n",
       "Name: count, Length: 351, dtype: int64"
      ]
     },
     "execution_count": 606,
     "metadata": {},
     "output_type": "execute_result"
    }
   ],
   "source": [
    "df.Suburb.value_counts()"
   ]
  },
  {
   "cell_type": "markdown",
   "id": "07bbc63a-5271-463c-88d7-6564299bdafb",
   "metadata": {},
   "source": [
    "*There seems to be a lot suburbs where only one house is listed. This could impact the performance of the model and should be addressed*"
   ]
  },
  {
   "cell_type": "code",
   "execution_count": 607,
   "id": "91a3807f-29f8-48fb-927d-963ad70ac098",
   "metadata": {},
   "outputs": [
    {
     "data": {
      "text/plain": [
       "52"
      ]
     },
     "execution_count": 607,
     "metadata": {},
     "output_type": "execute_result"
    }
   ],
   "source": [
    "(df.Suburb.value_counts() <= 5).sum()"
   ]
  },
  {
   "cell_type": "markdown",
   "id": "093073eb-f698-4413-b991-3e74d50b4912",
   "metadata": {},
   "source": [
    "*52 of the suburbs have less than 5 properties in the dataset. It may be worth modifying this column upon further inspection.*"
   ]
  },
  {
   "cell_type": "markdown",
   "id": "b963ed70-8885-4431-ac48-5579aec747ea",
   "metadata": {},
   "source": [
    "**Council Area Column**"
   ]
  },
  {
   "cell_type": "code",
   "execution_count": 608,
   "id": "3b10523e-ff20-4006-80ff-8e5cb51dd7e5",
   "metadata": {},
   "outputs": [
    {
     "data": {
      "text/plain": [
       "CouncilArea\n",
       "Boroondara City Council           3675\n",
       "Darebin City Council              2851\n",
       "Moreland City Council             2122\n",
       "Glen Eira City Council            2006\n",
       "Melbourne City Council            1952\n",
       "Banyule City Council              1861\n",
       "Moonee Valley City Council        1791\n",
       "Bayside City Council              1764\n",
       "Brimbank City Council             1593\n",
       "Monash City Council               1466\n",
       "Stonnington City Council          1460\n",
       "Maribyrnong City Council          1451\n",
       "Port Phillip City Council         1280\n",
       "Hume City Council                 1214\n",
       "Yarra City Council                1186\n",
       "Manningham City Council           1046\n",
       "Hobsons Bay City Council           942\n",
       "Kingston City Council              871\n",
       "Whittlesea City Council            828\n",
       "Wyndham City Council               624\n",
       "Whitehorse City Council            618\n",
       "Maroondah City Council             506\n",
       "Knox City Council                  371\n",
       "Greater Dandenong City Council     314\n",
       "Melton City Council                292\n",
       "Frankston City Council             290\n",
       "Casey City Council                 176\n",
       "Yarra Ranges Shire Council         102\n",
       "Nillumbik Shire Council             88\n",
       "Macedon Ranges Shire Council        46\n",
       "Cardinia Shire Council              41\n",
       "Mitchell Shire Council              20\n",
       "Moorabool Shire Council              7\n",
       "Name: count, dtype: int64"
      ]
     },
     "execution_count": 608,
     "metadata": {},
     "output_type": "execute_result"
    }
   ],
   "source": [
    "df.CouncilArea.value_counts()"
   ]
  },
  {
   "cell_type": "markdown",
   "id": "2993ad82-8381-415a-8ab5-5c80bf35e753",
   "metadata": {},
   "source": [
    "**Region Name Column**"
   ]
  },
  {
   "cell_type": "code",
   "execution_count": 609,
   "id": "86df4308-ea6a-447a-912c-8b52824e4c23",
   "metadata": {},
   "outputs": [
    {
     "data": {
      "text/plain": [
       "Regionname\n",
       "Southern Metropolitan         11836\n",
       "Northern Metropolitan          9557\n",
       "Western Metropolitan           6799\n",
       "Eastern Metropolitan           4377\n",
       "South-Eastern Metropolitan     1739\n",
       "Eastern Victoria                228\n",
       "Northern Victoria               203\n",
       "Western Victoria                115\n",
       "Name: count, dtype: int64"
      ]
     },
     "execution_count": 609,
     "metadata": {},
     "output_type": "execute_result"
    }
   ],
   "source": [
    "df.Regionname.value_counts()"
   ]
  },
  {
   "cell_type": "markdown",
   "id": "ee47a085-baa8-4e2d-9b97-84274253105b",
   "metadata": {},
   "source": [
    "**Type Column**"
   ]
  },
  {
   "cell_type": "code",
   "execution_count": 610,
   "id": "306b24f5-ead6-4637-8f6d-bbb118982df7",
   "metadata": {},
   "outputs": [
    {
     "data": {
      "text/plain": [
       "Type\n",
       "h    23980\n",
       "u     7297\n",
       "t     3580\n",
       "Name: count, dtype: int64"
      ]
     },
     "execution_count": 610,
     "metadata": {},
     "output_type": "execute_result"
    }
   ],
   "source": [
    "df.Type.value_counts()"
   ]
  },
  {
   "cell_type": "markdown",
   "id": "05d168ed-c186-4bf0-9f6c-432efff1e4b7",
   "metadata": {},
   "source": [
    "*There is a large number of null building area values. Does it indicate that a type of property will have a null building area?*"
   ]
  },
  {
   "cell_type": "code",
   "execution_count": 611,
   "id": "69d85d09-14f1-4b97-9904-05ac1790a77a",
   "metadata": {},
   "outputs": [
    {
     "data": {
      "text/plain": [
       "Type\n",
       "h    13567\n",
       "u     5100\n",
       "t     2448\n",
       "Name: count, dtype: int64"
      ]
     },
     "execution_count": 611,
     "metadata": {},
     "output_type": "execute_result"
    }
   ],
   "source": [
    "df[df.BuildingArea.isnull()].Type.value_counts()"
   ]
  },
  {
   "cell_type": "markdown",
   "id": "f9d7380d-4660-4dad-a55b-0cb542881144",
   "metadata": {},
   "source": [
    "**Overview**"
   ]
  },
  {
   "cell_type": "code",
   "execution_count": 612,
   "id": "593b9c1c-4dec-4868-aea2-7694acde261f",
   "metadata": {},
   "outputs": [
    {
     "data": {
      "text/html": [
       "<div>\n",
       "<style scoped>\n",
       "    .dataframe tbody tr th:only-of-type {\n",
       "        vertical-align: middle;\n",
       "    }\n",
       "\n",
       "    .dataframe tbody tr th {\n",
       "        vertical-align: top;\n",
       "    }\n",
       "\n",
       "    .dataframe thead th {\n",
       "        text-align: right;\n",
       "    }\n",
       "</style>\n",
       "<table border=\"1\" class=\"dataframe\">\n",
       "  <thead>\n",
       "    <tr style=\"text-align: right;\">\n",
       "      <th></th>\n",
       "      <th>Rooms</th>\n",
       "      <th>Price</th>\n",
       "      <th>Distance</th>\n",
       "      <th>Postcode</th>\n",
       "      <th>Bedroom2</th>\n",
       "      <th>Bathroom</th>\n",
       "      <th>Car</th>\n",
       "      <th>Landsize</th>\n",
       "      <th>BuildingArea</th>\n",
       "      <th>YearBuilt</th>\n",
       "      <th>Lattitude</th>\n",
       "      <th>Longtitude</th>\n",
       "      <th>Propertycount</th>\n",
       "    </tr>\n",
       "  </thead>\n",
       "  <tbody>\n",
       "    <tr>\n",
       "      <th>count</th>\n",
       "      <td>34857.000000</td>\n",
       "      <td>2.724700e+04</td>\n",
       "      <td>34856.000000</td>\n",
       "      <td>34856.000000</td>\n",
       "      <td>26640.000000</td>\n",
       "      <td>26631.000000</td>\n",
       "      <td>26129.000000</td>\n",
       "      <td>23047.000000</td>\n",
       "      <td>13742.00000</td>\n",
       "      <td>15551.000000</td>\n",
       "      <td>26881.000000</td>\n",
       "      <td>26881.000000</td>\n",
       "      <td>34854.000000</td>\n",
       "    </tr>\n",
       "    <tr>\n",
       "      <th>mean</th>\n",
       "      <td>3.031012</td>\n",
       "      <td>1.050173e+06</td>\n",
       "      <td>11.184929</td>\n",
       "      <td>3116.062859</td>\n",
       "      <td>3.084647</td>\n",
       "      <td>1.624798</td>\n",
       "      <td>1.728845</td>\n",
       "      <td>593.598993</td>\n",
       "      <td>160.25640</td>\n",
       "      <td>1965.289885</td>\n",
       "      <td>-37.810634</td>\n",
       "      <td>145.001851</td>\n",
       "      <td>7572.888306</td>\n",
       "    </tr>\n",
       "    <tr>\n",
       "      <th>std</th>\n",
       "      <td>0.969933</td>\n",
       "      <td>6.414671e+05</td>\n",
       "      <td>6.788892</td>\n",
       "      <td>109.023903</td>\n",
       "      <td>0.980690</td>\n",
       "      <td>0.724212</td>\n",
       "      <td>1.010771</td>\n",
       "      <td>3398.841946</td>\n",
       "      <td>401.26706</td>\n",
       "      <td>37.328178</td>\n",
       "      <td>0.090279</td>\n",
       "      <td>0.120169</td>\n",
       "      <td>4428.090313</td>\n",
       "    </tr>\n",
       "    <tr>\n",
       "      <th>min</th>\n",
       "      <td>1.000000</td>\n",
       "      <td>8.500000e+04</td>\n",
       "      <td>0.000000</td>\n",
       "      <td>3000.000000</td>\n",
       "      <td>0.000000</td>\n",
       "      <td>0.000000</td>\n",
       "      <td>0.000000</td>\n",
       "      <td>0.000000</td>\n",
       "      <td>0.00000</td>\n",
       "      <td>1196.000000</td>\n",
       "      <td>-38.190430</td>\n",
       "      <td>144.423790</td>\n",
       "      <td>83.000000</td>\n",
       "    </tr>\n",
       "    <tr>\n",
       "      <th>25%</th>\n",
       "      <td>2.000000</td>\n",
       "      <td>6.350000e+05</td>\n",
       "      <td>6.400000</td>\n",
       "      <td>3051.000000</td>\n",
       "      <td>2.000000</td>\n",
       "      <td>1.000000</td>\n",
       "      <td>1.000000</td>\n",
       "      <td>224.000000</td>\n",
       "      <td>102.00000</td>\n",
       "      <td>1940.000000</td>\n",
       "      <td>-37.862950</td>\n",
       "      <td>144.933500</td>\n",
       "      <td>4385.000000</td>\n",
       "    </tr>\n",
       "    <tr>\n",
       "      <th>50%</th>\n",
       "      <td>3.000000</td>\n",
       "      <td>8.700000e+05</td>\n",
       "      <td>10.300000</td>\n",
       "      <td>3103.000000</td>\n",
       "      <td>3.000000</td>\n",
       "      <td>2.000000</td>\n",
       "      <td>2.000000</td>\n",
       "      <td>521.000000</td>\n",
       "      <td>136.00000</td>\n",
       "      <td>1970.000000</td>\n",
       "      <td>-37.807600</td>\n",
       "      <td>145.007800</td>\n",
       "      <td>6763.000000</td>\n",
       "    </tr>\n",
       "    <tr>\n",
       "      <th>75%</th>\n",
       "      <td>4.000000</td>\n",
       "      <td>1.295000e+06</td>\n",
       "      <td>14.000000</td>\n",
       "      <td>3156.000000</td>\n",
       "      <td>4.000000</td>\n",
       "      <td>2.000000</td>\n",
       "      <td>2.000000</td>\n",
       "      <td>670.000000</td>\n",
       "      <td>188.00000</td>\n",
       "      <td>2000.000000</td>\n",
       "      <td>-37.754100</td>\n",
       "      <td>145.071900</td>\n",
       "      <td>10412.000000</td>\n",
       "    </tr>\n",
       "    <tr>\n",
       "      <th>max</th>\n",
       "      <td>16.000000</td>\n",
       "      <td>1.120000e+07</td>\n",
       "      <td>48.100000</td>\n",
       "      <td>3978.000000</td>\n",
       "      <td>30.000000</td>\n",
       "      <td>12.000000</td>\n",
       "      <td>26.000000</td>\n",
       "      <td>433014.000000</td>\n",
       "      <td>44515.00000</td>\n",
       "      <td>2106.000000</td>\n",
       "      <td>-37.390200</td>\n",
       "      <td>145.526350</td>\n",
       "      <td>21650.000000</td>\n",
       "    </tr>\n",
       "  </tbody>\n",
       "</table>\n",
       "</div>"
      ],
      "text/plain": [
       "              Rooms         Price      Distance      Postcode      Bedroom2  \\\n",
       "count  34857.000000  2.724700e+04  34856.000000  34856.000000  26640.000000   \n",
       "mean       3.031012  1.050173e+06     11.184929   3116.062859      3.084647   \n",
       "std        0.969933  6.414671e+05      6.788892    109.023903      0.980690   \n",
       "min        1.000000  8.500000e+04      0.000000   3000.000000      0.000000   \n",
       "25%        2.000000  6.350000e+05      6.400000   3051.000000      2.000000   \n",
       "50%        3.000000  8.700000e+05     10.300000   3103.000000      3.000000   \n",
       "75%        4.000000  1.295000e+06     14.000000   3156.000000      4.000000   \n",
       "max       16.000000  1.120000e+07     48.100000   3978.000000     30.000000   \n",
       "\n",
       "           Bathroom           Car       Landsize  BuildingArea     YearBuilt  \\\n",
       "count  26631.000000  26129.000000   23047.000000   13742.00000  15551.000000   \n",
       "mean       1.624798      1.728845     593.598993     160.25640   1965.289885   \n",
       "std        0.724212      1.010771    3398.841946     401.26706     37.328178   \n",
       "min        0.000000      0.000000       0.000000       0.00000   1196.000000   \n",
       "25%        1.000000      1.000000     224.000000     102.00000   1940.000000   \n",
       "50%        2.000000      2.000000     521.000000     136.00000   1970.000000   \n",
       "75%        2.000000      2.000000     670.000000     188.00000   2000.000000   \n",
       "max       12.000000     26.000000  433014.000000   44515.00000   2106.000000   \n",
       "\n",
       "          Lattitude    Longtitude  Propertycount  \n",
       "count  26881.000000  26881.000000   34854.000000  \n",
       "mean     -37.810634    145.001851    7572.888306  \n",
       "std        0.090279      0.120169    4428.090313  \n",
       "min      -38.190430    144.423790      83.000000  \n",
       "25%      -37.862950    144.933500    4385.000000  \n",
       "50%      -37.807600    145.007800    6763.000000  \n",
       "75%      -37.754100    145.071900   10412.000000  \n",
       "max      -37.390200    145.526350   21650.000000  "
      ]
     },
     "execution_count": 612,
     "metadata": {},
     "output_type": "execute_result"
    }
   ],
   "source": [
    "df.describe()"
   ]
  },
  {
   "cell_type": "markdown",
   "id": "64a8279b-b4ad-4f0e-858f-491204c12c05",
   "metadata": {},
   "source": [
    "**Some things to note when looking at the data above:**  \n",
    "• The minimum Bedroom value in the data is 0. This seems interesting and further look into why a property would have no bedrooms.  \n",
    "• Landsize and building area with a value of 0. Could this indicate incorrect data?  \n",
    "• Year built has a maximum value of 2106 which is in the future. Are there more data points like this or could it be a typo?"
   ]
  },
  {
   "cell_type": "code",
   "execution_count": 613,
   "id": "c8c7af08-0492-4c35-80b6-badf42467a18",
   "metadata": {},
   "outputs": [
    {
     "data": {
      "text/html": [
       "<div>\n",
       "<style scoped>\n",
       "    .dataframe tbody tr th:only-of-type {\n",
       "        vertical-align: middle;\n",
       "    }\n",
       "\n",
       "    .dataframe tbody tr th {\n",
       "        vertical-align: top;\n",
       "    }\n",
       "\n",
       "    .dataframe thead th {\n",
       "        text-align: right;\n",
       "    }\n",
       "</style>\n",
       "<table border=\"1\" class=\"dataframe\">\n",
       "  <thead>\n",
       "    <tr style=\"text-align: right;\">\n",
       "      <th></th>\n",
       "      <th>Suburb</th>\n",
       "      <th>Address</th>\n",
       "      <th>Rooms</th>\n",
       "      <th>Type</th>\n",
       "      <th>Price</th>\n",
       "      <th>Method</th>\n",
       "      <th>SellerG</th>\n",
       "      <th>Date</th>\n",
       "      <th>Distance</th>\n",
       "      <th>Postcode</th>\n",
       "      <th>...</th>\n",
       "      <th>Bathroom</th>\n",
       "      <th>Car</th>\n",
       "      <th>Landsize</th>\n",
       "      <th>BuildingArea</th>\n",
       "      <th>YearBuilt</th>\n",
       "      <th>CouncilArea</th>\n",
       "      <th>Lattitude</th>\n",
       "      <th>Longtitude</th>\n",
       "      <th>Regionname</th>\n",
       "      <th>Propertycount</th>\n",
       "    </tr>\n",
       "  </thead>\n",
       "  <tbody>\n",
       "    <tr>\n",
       "      <th>15857</th>\n",
       "      <td>Nunawading</td>\n",
       "      <td>1/7 Lilian St</td>\n",
       "      <td>3</td>\n",
       "      <td>t</td>\n",
       "      <td>NaN</td>\n",
       "      <td>SP</td>\n",
       "      <td>Jellis</td>\n",
       "      <td>17/06/2017</td>\n",
       "      <td>15.4</td>\n",
       "      <td>3131.0</td>\n",
       "      <td>...</td>\n",
       "      <td>3.0</td>\n",
       "      <td>2.0</td>\n",
       "      <td>405.0</td>\n",
       "      <td>226.0</td>\n",
       "      <td>2000.0</td>\n",
       "      <td>Manningham City Council</td>\n",
       "      <td>-37.82678</td>\n",
       "      <td>145.16777</td>\n",
       "      <td>Eastern Metropolitan</td>\n",
       "      <td>4973.0</td>\n",
       "    </tr>\n",
       "    <tr>\n",
       "      <th>15858</th>\n",
       "      <td>Nunawading</td>\n",
       "      <td>1/7 Lilian St</td>\n",
       "      <td>3</td>\n",
       "      <td>t</td>\n",
       "      <td>NaN</td>\n",
       "      <td>SP</td>\n",
       "      <td>Jellis</td>\n",
       "      <td>17/06/2017</td>\n",
       "      <td>15.4</td>\n",
       "      <td>3131.0</td>\n",
       "      <td>...</td>\n",
       "      <td>3.0</td>\n",
       "      <td>2.0</td>\n",
       "      <td>405.0</td>\n",
       "      <td>226.0</td>\n",
       "      <td>2000.0</td>\n",
       "      <td>Manningham City Council</td>\n",
       "      <td>-37.82678</td>\n",
       "      <td>145.16777</td>\n",
       "      <td>Eastern Metropolitan</td>\n",
       "      <td>4973.0</td>\n",
       "    </tr>\n",
       "  </tbody>\n",
       "</table>\n",
       "<p>2 rows × 21 columns</p>\n",
       "</div>"
      ],
      "text/plain": [
       "           Suburb        Address  Rooms Type  Price Method SellerG  \\\n",
       "15857  Nunawading  1/7 Lilian St      3    t    NaN     SP  Jellis   \n",
       "15858  Nunawading  1/7 Lilian St      3    t    NaN     SP  Jellis   \n",
       "\n",
       "             Date  Distance  Postcode  ...  Bathroom  Car  Landsize  \\\n",
       "15857  17/06/2017      15.4    3131.0  ...       3.0  2.0     405.0   \n",
       "15858  17/06/2017      15.4    3131.0  ...       3.0  2.0     405.0   \n",
       "\n",
       "       BuildingArea  YearBuilt              CouncilArea Lattitude  Longtitude  \\\n",
       "15857         226.0     2000.0  Manningham City Council -37.82678   145.16777   \n",
       "15858         226.0     2000.0  Manningham City Council -37.82678   145.16777   \n",
       "\n",
       "                 Regionname Propertycount  \n",
       "15857  Eastern Metropolitan        4973.0  \n",
       "15858  Eastern Metropolitan        4973.0  \n",
       "\n",
       "[2 rows x 21 columns]"
      ]
     },
     "execution_count": 613,
     "metadata": {},
     "output_type": "execute_result"
    }
   ],
   "source": [
    "#check for duplicates\n",
    "df[df.duplicated(keep=False)]"
   ]
  },
  {
   "cell_type": "code",
   "execution_count": 614,
   "id": "86ab4c59-b4bc-4909-bfc7-aa86517fff6e",
   "metadata": {},
   "outputs": [
    {
     "data": {
      "image/png": "[encoded data removed]",
      "text/plain": [
       "<Figure size 2000x1500 with 16 Axes>"
      ]
     },
     "metadata": {},
     "output_type": "display_data"
    }
   ],
   "source": [
    "df.hist(bins=50, figsize=(20, 15))\n",
    "plt.show()"
   ]
  },
  {
   "cell_type": "markdown",
   "id": "c010f702-3823-48bd-8629-eaf416167568",
   "metadata": {},
   "source": [
    "*The building area and landsize have a disproportionate amount of null values with huge maximum values. This could either be a good indicator for price or suggest that these columns need to be dropped.*"
   ]
  },
  {
   "cell_type": "code",
   "execution_count": 615,
   "id": "be11381e-7c2b-4683-a04f-07a10fbdcd6c",
   "metadata": {},
   "outputs": [
    {
     "data": {
      "image/png": "[encoded data removed]",
      "text/plain": [
       "<Figure size 640x480 with 2 Axes>"
      ]
     },
     "metadata": {},
     "output_type": "display_data"
    }
   ],
   "source": [
    "df.plot(kind=\"scatter\", x=\"Longtitude\", y=\"Lattitude\", title=\"Geographical visualisation of Melbourne Property\", alpha=0.4, s=df[\"Propertycount\"]/5000, label=\"Property Counts\", c=\"Price\", cmap=plt.get_cmap(\"terrain\"), colorbar=True);"
   ]
  },
  {
   "cell_type": "code",
   "execution_count": 616,
   "id": "6a8d61b7-56e3-470a-a35c-87a9c574c966",
   "metadata": {},
   "outputs": [
    {
     "data": {
      "text/plain": [
       "Price            1.000000\n",
       "Rooms            0.465238\n",
       "Bedroom2         0.430275\n",
       "Bathroom         0.429878\n",
       "Car              0.201803\n",
       "Longtitude       0.197874\n",
       "BuildingArea     0.100754\n",
       "Postcode         0.044950\n",
       "Landsize         0.032748\n",
       "Propertycount   -0.059017\n",
       "Distance        -0.211384\n",
       "Lattitude       -0.215607\n",
       "YearBuilt       -0.333306\n",
       "Name: Price, dtype: float64"
      ]
     },
     "execution_count": 616,
     "metadata": {},
     "output_type": "execute_result"
    }
   ],
   "source": [
    "df.corr(numeric_only=True)[\"Price\"].sort_values(ascending=False)"
   ]
  },
  {
   "cell_type": "code",
   "execution_count": 617,
   "id": "a497a66a-6694-4cfd-9b7a-b719d8602fd4",
   "metadata": {},
   "outputs": [
    {
     "data": {
      "image/png": "[encoded data removed]",
      "text/plain": [
       "<Figure size 640x480 with 2 Axes>"
      ]
     },
     "metadata": {},
     "output_type": "display_data"
    }
   ],
   "source": [
    "sns.heatmap(df.corr(numeric_only=True), vmin=-1, vmax=1, center=0, square=True);"
   ]
  },
  {
   "cell_type": "markdown",
   "id": "bfb2fb6e-0e06-469b-8aca-1f10649def26",
   "metadata": {},
   "source": [
    "# Data Cleaning"
   ]
  },
  {
   "cell_type": "markdown",
   "id": "6457b63b-8ecf-4f59-af99-b223556f9b8f",
   "metadata": {},
   "source": [
    "### 1. Drop duplicate row"
   ]
  },
  {
   "cell_type": "code",
   "execution_count": 618,
   "id": "5fd52256-7b93-4e41-8cae-f6d264fd6624",
   "metadata": {},
   "outputs": [],
   "source": [
    "df_clean = df.drop_duplicates()"
   ]
  },
  {
   "cell_type": "markdown",
   "id": "3f0d1404-89bc-416c-b6c7-ef0d1b8f0dc1",
   "metadata": {},
   "source": [
    "### 2. Drop data that don't make sense to train the model on"
   ]
  },
  {
   "cell_type": "markdown",
   "id": "c8608948-ebdb-432e-a125-316c725ef2b2",
   "metadata": {},
   "source": [
    "*The columns below have been identified as columns that don't make sense to train the model on. They either provide listing specific details (such as Address, Postcode) which shouldn't be used to predict the price of a property or contain information that is not directly related to the property (Method and SellerG columns).*"
   ]
  },
  {
   "cell_type": "code",
   "execution_count": 619,
   "id": "57719d43-bb39-440f-8d06-510d4f5175ad",
   "metadata": {},
   "outputs": [],
   "source": [
    "df_clean = df_clean.drop([\"Address\", \"Method\", \"SellerG\", \"Postcode\", \"CouncilArea\"], axis=1)"
   ]
  },
  {
   "cell_type": "markdown",
   "id": "4fced33c-7426-4e0e-abe4-f6f77121e527",
   "metadata": {},
   "source": [
    "#### Look for predominantly null columns and rows to drop"
   ]
  },
  {
   "cell_type": "code",
   "execution_count": 620,
   "id": "6b674f8a-11ae-4a21-8941-b299399a11cb",
   "metadata": {},
   "outputs": [
    {
     "data": {
      "text/plain": [
       "Suburb               0\n",
       "Rooms                0\n",
       "Type                 0\n",
       "Price             7609\n",
       "Date                 0\n",
       "Distance             1\n",
       "Bedroom2          8217\n",
       "Bathroom          8226\n",
       "Car               8728\n",
       "Landsize         11810\n",
       "BuildingArea     21115\n",
       "YearBuilt        19306\n",
       "Lattitude         7976\n",
       "Longtitude        7976\n",
       "Regionname           3\n",
       "Propertycount        3\n",
       "dtype: int64"
      ]
     },
     "execution_count": 620,
     "metadata": {},
     "output_type": "execute_result"
    }
   ],
   "source": [
    "df_clean.isnull().sum()"
   ]
  },
  {
   "cell_type": "markdown",
   "id": "f875e7f4-3892-4de1-8122-b792c0bc99f9",
   "metadata": {},
   "source": [
    "*Drop all the rows with missing price values as it will be our target variable*"
   ]
  },
  {
   "cell_type": "code",
   "execution_count": 621,
   "id": "65ec6c14-9a9e-42cb-aafd-ada3f0148f69",
   "metadata": {},
   "outputs": [],
   "source": [
    "df_clean.dropna(subset=[\"Price\"], inplace=True)"
   ]
  },
  {
   "cell_type": "code",
   "execution_count": 622,
   "id": "64ab284f-c0ff-4621-8650-398c608be728",
   "metadata": {},
   "outputs": [
    {
     "data": {
      "text/html": [
       "<div>\n",
       "<style scoped>\n",
       "    .dataframe tbody tr th:only-of-type {\n",
       "        vertical-align: middle;\n",
       "    }\n",
       "\n",
       "    .dataframe tbody tr th {\n",
       "        vertical-align: top;\n",
       "    }\n",
       "\n",
       "    .dataframe thead th {\n",
       "        text-align: right;\n",
       "    }\n",
       "</style>\n",
       "<table border=\"1\" class=\"dataframe\">\n",
       "  <thead>\n",
       "    <tr style=\"text-align: right;\">\n",
       "      <th></th>\n",
       "      <th>Suburb</th>\n",
       "      <th>Rooms</th>\n",
       "      <th>Type</th>\n",
       "      <th>Price</th>\n",
       "      <th>Date</th>\n",
       "      <th>Distance</th>\n",
       "      <th>Bedroom2</th>\n",
       "      <th>Bathroom</th>\n",
       "      <th>Car</th>\n",
       "      <th>Landsize</th>\n",
       "      <th>BuildingArea</th>\n",
       "      <th>YearBuilt</th>\n",
       "      <th>Lattitude</th>\n",
       "      <th>Longtitude</th>\n",
       "      <th>Regionname</th>\n",
       "      <th>Propertycount</th>\n",
       "    </tr>\n",
       "  </thead>\n",
       "  <tbody>\n",
       "    <tr>\n",
       "      <th>18523</th>\n",
       "      <td>Footscray</td>\n",
       "      <td>2</td>\n",
       "      <td>u</td>\n",
       "      <td>710000.0</td>\n",
       "      <td>15/07/2017</td>\n",
       "      <td>5.1</td>\n",
       "      <td>NaN</td>\n",
       "      <td>NaN</td>\n",
       "      <td>NaN</td>\n",
       "      <td>NaN</td>\n",
       "      <td>NaN</td>\n",
       "      <td>NaN</td>\n",
       "      <td>NaN</td>\n",
       "      <td>NaN</td>\n",
       "      <td>NaN</td>\n",
       "      <td>NaN</td>\n",
       "    </tr>\n",
       "    <tr>\n",
       "      <th>26888</th>\n",
       "      <td>Camberwell</td>\n",
       "      <td>2</td>\n",
       "      <td>h</td>\n",
       "      <td>825000.0</td>\n",
       "      <td>11/11/2017</td>\n",
       "      <td>7.7</td>\n",
       "      <td>NaN</td>\n",
       "      <td>NaN</td>\n",
       "      <td>NaN</td>\n",
       "      <td>NaN</td>\n",
       "      <td>NaN</td>\n",
       "      <td>NaN</td>\n",
       "      <td>NaN</td>\n",
       "      <td>NaN</td>\n",
       "      <td>NaN</td>\n",
       "      <td>NaN</td>\n",
       "    </tr>\n",
       "    <tr>\n",
       "      <th>29483</th>\n",
       "      <td>Fawkner Lot</td>\n",
       "      <td>3</td>\n",
       "      <td>h</td>\n",
       "      <td>616000.0</td>\n",
       "      <td>6/01/2018</td>\n",
       "      <td>NaN</td>\n",
       "      <td>NaN</td>\n",
       "      <td>NaN</td>\n",
       "      <td>NaN</td>\n",
       "      <td>NaN</td>\n",
       "      <td>NaN</td>\n",
       "      <td>NaN</td>\n",
       "      <td>NaN</td>\n",
       "      <td>NaN</td>\n",
       "      <td>NaN</td>\n",
       "      <td>NaN</td>\n",
       "    </tr>\n",
       "  </tbody>\n",
       "</table>\n",
       "</div>"
      ],
      "text/plain": [
       "            Suburb  Rooms Type     Price        Date  Distance  Bedroom2  \\\n",
       "18523    Footscray      2    u  710000.0  15/07/2017       5.1       NaN   \n",
       "26888   Camberwell      2    h  825000.0  11/11/2017       7.7       NaN   \n",
       "29483  Fawkner Lot      3    h  616000.0   6/01/2018       NaN       NaN   \n",
       "\n",
       "       Bathroom  Car  Landsize  BuildingArea  YearBuilt  Lattitude  \\\n",
       "18523       NaN  NaN       NaN           NaN        NaN        NaN   \n",
       "26888       NaN  NaN       NaN           NaN        NaN        NaN   \n",
       "29483       NaN  NaN       NaN           NaN        NaN        NaN   \n",
       "\n",
       "       Longtitude Regionname  Propertycount  \n",
       "18523         NaN        NaN            NaN  \n",
       "26888         NaN        NaN            NaN  \n",
       "29483         NaN        NaN            NaN  "
      ]
     },
     "execution_count": 622,
     "metadata": {},
     "output_type": "execute_result"
    }
   ],
   "source": [
    "# There are 3 rows containing missing values for the Regionname and Propertycount columns. Are these the same rows?\n",
    "df_clean[df_clean.Regionname.isnull() & df_clean.Propertycount.isnull()]"
   ]
  },
  {
   "cell_type": "markdown",
   "id": "f4fbcd42-9914-49b4-a73a-c372feeafb9b",
   "metadata": {},
   "source": [
    "*Drop these rows as they don't offer enough insight*"
   ]
  },
  {
   "cell_type": "code",
   "execution_count": 623,
   "id": "591bb24c-78bf-42d9-a018-57eb64c412e5",
   "metadata": {},
   "outputs": [],
   "source": [
    "df_clean.dropna(subset=[\"Bedroom2\", \"Bathroom\", \"Car\", \"Landsize\", \"BuildingArea\", \"YearBuilt\", \"Lattitude\", \"Longtitude\", \"Regionname\", \"Propertycount\"], how=\"all\", inplace=True)"
   ]
  },
  {
   "cell_type": "code",
   "execution_count": 624,
   "id": "08c9a893-08cd-4f16-9b85-35ced58ffad7",
   "metadata": {},
   "outputs": [
    {
     "data": {
      "text/plain": [
       "Suburb               0\n",
       "Rooms                0\n",
       "Type                 0\n",
       "Price                0\n",
       "Date                 0\n",
       "Distance             0\n",
       "Bedroom2          6438\n",
       "Bathroom          6444\n",
       "Car               6821\n",
       "Landsize          9262\n",
       "BuildingArea     16588\n",
       "YearBuilt        15160\n",
       "Lattitude         6251\n",
       "Longtitude        6251\n",
       "Regionname           0\n",
       "Propertycount        0\n",
       "dtype: int64"
      ]
     },
     "execution_count": 624,
     "metadata": {},
     "output_type": "execute_result"
    }
   ],
   "source": [
    "df_clean.isnull().sum()"
   ]
  },
  {
   "cell_type": "markdown",
   "id": "8051f0f4-cc4b-4fc1-ada4-d672d399e6b3",
   "metadata": {},
   "source": [
    "### 3. Imputing Missing Values"
   ]
  },
  {
   "cell_type": "markdown",
   "id": "61bb566a-9f19-4e28-8c9c-8cb4d343c9ef",
   "metadata": {},
   "source": [
    "#### Dealing with missing values for types of rooms (Bedroom, Bathroom, Car)"
   ]
  },
  {
   "cell_type": "code",
   "execution_count": 625,
   "id": "dbd13d7d-5889-4064-8989-57a397dddf16",
   "metadata": {},
   "outputs": [
    {
     "data": {
      "text/html": [
       "<div>\n",
       "<style scoped>\n",
       "    .dataframe tbody tr th:only-of-type {\n",
       "        vertical-align: middle;\n",
       "    }\n",
       "\n",
       "    .dataframe tbody tr th {\n",
       "        vertical-align: top;\n",
       "    }\n",
       "\n",
       "    .dataframe thead th {\n",
       "        text-align: right;\n",
       "    }\n",
       "</style>\n",
       "<table border=\"1\" class=\"dataframe\">\n",
       "  <thead>\n",
       "    <tr style=\"text-align: right;\">\n",
       "      <th></th>\n",
       "      <th>Suburb</th>\n",
       "      <th>Rooms</th>\n",
       "      <th>Type</th>\n",
       "      <th>Price</th>\n",
       "      <th>Date</th>\n",
       "      <th>Distance</th>\n",
       "      <th>Bedroom2</th>\n",
       "      <th>Bathroom</th>\n",
       "      <th>Car</th>\n",
       "      <th>Landsize</th>\n",
       "      <th>BuildingArea</th>\n",
       "      <th>YearBuilt</th>\n",
       "      <th>Lattitude</th>\n",
       "      <th>Longtitude</th>\n",
       "      <th>Regionname</th>\n",
       "      <th>Propertycount</th>\n",
       "    </tr>\n",
       "  </thead>\n",
       "  <tbody>\n",
       "    <tr>\n",
       "      <th>15</th>\n",
       "      <td>Abbotsford</td>\n",
       "      <td>3</td>\n",
       "      <td>h</td>\n",
       "      <td>1000000.0</td>\n",
       "      <td>8/10/2016</td>\n",
       "      <td>2.5</td>\n",
       "      <td>NaN</td>\n",
       "      <td>NaN</td>\n",
       "      <td>NaN</td>\n",
       "      <td>NaN</td>\n",
       "      <td>NaN</td>\n",
       "      <td>NaN</td>\n",
       "      <td>NaN</td>\n",
       "      <td>NaN</td>\n",
       "      <td>Northern Metropolitan</td>\n",
       "      <td>4019.0</td>\n",
       "    </tr>\n",
       "    <tr>\n",
       "      <th>16</th>\n",
       "      <td>Abbotsford</td>\n",
       "      <td>2</td>\n",
       "      <td>t</td>\n",
       "      <td>745000.0</td>\n",
       "      <td>8/10/2016</td>\n",
       "      <td>2.5</td>\n",
       "      <td>NaN</td>\n",
       "      <td>NaN</td>\n",
       "      <td>NaN</td>\n",
       "      <td>NaN</td>\n",
       "      <td>NaN</td>\n",
       "      <td>NaN</td>\n",
       "      <td>NaN</td>\n",
       "      <td>NaN</td>\n",
       "      <td>Northern Metropolitan</td>\n",
       "      <td>4019.0</td>\n",
       "    </tr>\n",
       "    <tr>\n",
       "      <th>19</th>\n",
       "      <td>Abbotsford</td>\n",
       "      <td>2</td>\n",
       "      <td>u</td>\n",
       "      <td>542000.0</td>\n",
       "      <td>8/10/2016</td>\n",
       "      <td>2.5</td>\n",
       "      <td>NaN</td>\n",
       "      <td>NaN</td>\n",
       "      <td>NaN</td>\n",
       "      <td>NaN</td>\n",
       "      <td>NaN</td>\n",
       "      <td>NaN</td>\n",
       "      <td>NaN</td>\n",
       "      <td>NaN</td>\n",
       "      <td>Northern Metropolitan</td>\n",
       "      <td>4019.0</td>\n",
       "    </tr>\n",
       "    <tr>\n",
       "      <th>21</th>\n",
       "      <td>Abbotsford</td>\n",
       "      <td>2</td>\n",
       "      <td>u</td>\n",
       "      <td>760000.0</td>\n",
       "      <td>10/12/2016</td>\n",
       "      <td>2.5</td>\n",
       "      <td>NaN</td>\n",
       "      <td>NaN</td>\n",
       "      <td>NaN</td>\n",
       "      <td>NaN</td>\n",
       "      <td>NaN</td>\n",
       "      <td>NaN</td>\n",
       "      <td>NaN</td>\n",
       "      <td>NaN</td>\n",
       "      <td>Northern Metropolitan</td>\n",
       "      <td>4019.0</td>\n",
       "    </tr>\n",
       "    <tr>\n",
       "      <th>22</th>\n",
       "      <td>Abbotsford</td>\n",
       "      <td>1</td>\n",
       "      <td>u</td>\n",
       "      <td>481000.0</td>\n",
       "      <td>10/12/2016</td>\n",
       "      <td>2.5</td>\n",
       "      <td>NaN</td>\n",
       "      <td>NaN</td>\n",
       "      <td>NaN</td>\n",
       "      <td>NaN</td>\n",
       "      <td>NaN</td>\n",
       "      <td>NaN</td>\n",
       "      <td>NaN</td>\n",
       "      <td>NaN</td>\n",
       "      <td>Northern Metropolitan</td>\n",
       "      <td>4019.0</td>\n",
       "    </tr>\n",
       "  </tbody>\n",
       "</table>\n",
       "</div>"
      ],
      "text/plain": [
       "        Suburb  Rooms Type      Price        Date  Distance  Bedroom2  \\\n",
       "15  Abbotsford      3    h  1000000.0   8/10/2016       2.5       NaN   \n",
       "16  Abbotsford      2    t   745000.0   8/10/2016       2.5       NaN   \n",
       "19  Abbotsford      2    u   542000.0   8/10/2016       2.5       NaN   \n",
       "21  Abbotsford      2    u   760000.0  10/12/2016       2.5       NaN   \n",
       "22  Abbotsford      1    u   481000.0  10/12/2016       2.5       NaN   \n",
       "\n",
       "    Bathroom  Car  Landsize  BuildingArea  YearBuilt  Lattitude  Longtitude  \\\n",
       "15       NaN  NaN       NaN           NaN        NaN        NaN         NaN   \n",
       "16       NaN  NaN       NaN           NaN        NaN        NaN         NaN   \n",
       "19       NaN  NaN       NaN           NaN        NaN        NaN         NaN   \n",
       "21       NaN  NaN       NaN           NaN        NaN        NaN         NaN   \n",
       "22       NaN  NaN       NaN           NaN        NaN        NaN         NaN   \n",
       "\n",
       "               Regionname  Propertycount  \n",
       "15  Northern Metropolitan         4019.0  \n",
       "16  Northern Metropolitan         4019.0  \n",
       "19  Northern Metropolitan         4019.0  \n",
       "21  Northern Metropolitan         4019.0  \n",
       "22  Northern Metropolitan         4019.0  "
      ]
     },
     "execution_count": 625,
     "metadata": {},
     "output_type": "execute_result"
    }
   ],
   "source": [
    "df_clean[df_clean[\"Bedroom2\"].isnull() & df_clean[\"Bathroom\"].isnull()].head()"
   ]
  },
  {
   "cell_type": "markdown",
   "id": "20e45bf4-916d-40e7-976b-396fb8227be9",
   "metadata": {},
   "source": [
    "*Looking at the data above. There seems to be a large amount of rows that are missing most of their column values. These rows should also be dropped as there would be too many data points that would need to be imputed and would therefor mean that a lot of the rows are synthetic.*"
   ]
  },
  {
   "cell_type": "code",
   "execution_count": 626,
   "id": "0a75dc80-64b2-4db1-b797-b2a299c2bc41",
   "metadata": {},
   "outputs": [],
   "source": [
    "df_clean.dropna(subset=[\"Bedroom2\", \"Bathroom\", \"Car\", \"Landsize\", \"BuildingArea\", \"YearBuilt\"], how=\"all\", inplace=True)"
   ]
  },
  {
   "cell_type": "code",
   "execution_count": 627,
   "id": "d4f44a55-0dc1-484b-9cc3-736c28d07176",
   "metadata": {},
   "outputs": [
    {
     "data": {
      "text/plain": [
       "Suburb               0\n",
       "Rooms                0\n",
       "Type                 0\n",
       "Price                0\n",
       "Date                 0\n",
       "Distance             0\n",
       "Bedroom2             6\n",
       "Bathroom            12\n",
       "Car                389\n",
       "Landsize          2830\n",
       "BuildingArea     10156\n",
       "YearBuilt         8728\n",
       "Lattitude           22\n",
       "Longtitude          22\n",
       "Regionname           0\n",
       "Propertycount        0\n",
       "dtype: int64"
      ]
     },
     "execution_count": 627,
     "metadata": {},
     "output_type": "execute_result"
    }
   ],
   "source": [
    "df_clean.isnull().sum()"
   ]
  },
  {
   "cell_type": "markdown",
   "id": "1d29f03f-5aab-4389-abdb-04817b4ffd7c",
   "metadata": {},
   "source": [
    "##### Bedrooms Feature"
   ]
  },
  {
   "cell_type": "code",
   "execution_count": 628,
   "id": "38f6c09b-3114-4164-a8d6-78a19b5ed38f",
   "metadata": {},
   "outputs": [
    {
     "data": {
      "text/html": [
       "<div>\n",
       "<style scoped>\n",
       "    .dataframe tbody tr th:only-of-type {\n",
       "        vertical-align: middle;\n",
       "    }\n",
       "\n",
       "    .dataframe tbody tr th {\n",
       "        vertical-align: top;\n",
       "    }\n",
       "\n",
       "    .dataframe thead th {\n",
       "        text-align: right;\n",
       "    }\n",
       "</style>\n",
       "<table border=\"1\" class=\"dataframe\">\n",
       "  <thead>\n",
       "    <tr style=\"text-align: right;\">\n",
       "      <th></th>\n",
       "      <th>Suburb</th>\n",
       "      <th>Rooms</th>\n",
       "      <th>Type</th>\n",
       "      <th>Price</th>\n",
       "      <th>Date</th>\n",
       "      <th>Distance</th>\n",
       "      <th>Bedroom2</th>\n",
       "      <th>Bathroom</th>\n",
       "      <th>Car</th>\n",
       "      <th>Landsize</th>\n",
       "      <th>BuildingArea</th>\n",
       "      <th>YearBuilt</th>\n",
       "      <th>Lattitude</th>\n",
       "      <th>Longtitude</th>\n",
       "      <th>Regionname</th>\n",
       "      <th>Propertycount</th>\n",
       "    </tr>\n",
       "  </thead>\n",
       "  <tbody>\n",
       "    <tr>\n",
       "      <th>24807</th>\n",
       "      <td>Wollert</td>\n",
       "      <td>4</td>\n",
       "      <td>h</td>\n",
       "      <td>335000.0</td>\n",
       "      <td>14/10/2017</td>\n",
       "      <td>25.5</td>\n",
       "      <td>NaN</td>\n",
       "      <td>NaN</td>\n",
       "      <td>NaN</td>\n",
       "      <td>446.0</td>\n",
       "      <td>NaN</td>\n",
       "      <td>NaN</td>\n",
       "      <td>-37.61939</td>\n",
       "      <td>145.03831</td>\n",
       "      <td>Northern Metropolitan</td>\n",
       "      <td>2940.0</td>\n",
       "    </tr>\n",
       "    <tr>\n",
       "      <th>26177</th>\n",
       "      <td>Mentone</td>\n",
       "      <td>1</td>\n",
       "      <td>u</td>\n",
       "      <td>385000.0</td>\n",
       "      <td>28/10/2017</td>\n",
       "      <td>20.0</td>\n",
       "      <td>NaN</td>\n",
       "      <td>NaN</td>\n",
       "      <td>NaN</td>\n",
       "      <td>239.0</td>\n",
       "      <td>NaN</td>\n",
       "      <td>NaN</td>\n",
       "      <td>-37.98223</td>\n",
       "      <td>145.06781</td>\n",
       "      <td>South-Eastern Metropolitan</td>\n",
       "      <td>6162.0</td>\n",
       "    </tr>\n",
       "    <tr>\n",
       "      <th>27157</th>\n",
       "      <td>Mentone</td>\n",
       "      <td>5</td>\n",
       "      <td>h</td>\n",
       "      <td>1200000.0</td>\n",
       "      <td>11/11/2017</td>\n",
       "      <td>20.0</td>\n",
       "      <td>NaN</td>\n",
       "      <td>NaN</td>\n",
       "      <td>NaN</td>\n",
       "      <td>594.0</td>\n",
       "      <td>NaN</td>\n",
       "      <td>NaN</td>\n",
       "      <td>-37.97700</td>\n",
       "      <td>145.07880</td>\n",
       "      <td>South-Eastern Metropolitan</td>\n",
       "      <td>6162.0</td>\n",
       "    </tr>\n",
       "    <tr>\n",
       "      <th>29197</th>\n",
       "      <td>Williamstown</td>\n",
       "      <td>3</td>\n",
       "      <td>h</td>\n",
       "      <td>1145000.0</td>\n",
       "      <td>25/11/2017</td>\n",
       "      <td>6.8</td>\n",
       "      <td>NaN</td>\n",
       "      <td>NaN</td>\n",
       "      <td>NaN</td>\n",
       "      <td>549.0</td>\n",
       "      <td>NaN</td>\n",
       "      <td>NaN</td>\n",
       "      <td>-37.85250</td>\n",
       "      <td>144.88720</td>\n",
       "      <td>Western Metropolitan</td>\n",
       "      <td>6380.0</td>\n",
       "    </tr>\n",
       "    <tr>\n",
       "      <th>34114</th>\n",
       "      <td>Cheltenham</td>\n",
       "      <td>2</td>\n",
       "      <td>t</td>\n",
       "      <td>682000.0</td>\n",
       "      <td>24/02/2018</td>\n",
       "      <td>17.9</td>\n",
       "      <td>NaN</td>\n",
       "      <td>NaN</td>\n",
       "      <td>NaN</td>\n",
       "      <td>338.0</td>\n",
       "      <td>NaN</td>\n",
       "      <td>NaN</td>\n",
       "      <td>-37.97144</td>\n",
       "      <td>145.07268</td>\n",
       "      <td>Southern Metropolitan</td>\n",
       "      <td>9758.0</td>\n",
       "    </tr>\n",
       "    <tr>\n",
       "      <th>34149</th>\n",
       "      <td>Craigieburn</td>\n",
       "      <td>3</td>\n",
       "      <td>h</td>\n",
       "      <td>438000.0</td>\n",
       "      <td>24/02/2018</td>\n",
       "      <td>20.6</td>\n",
       "      <td>NaN</td>\n",
       "      <td>NaN</td>\n",
       "      <td>NaN</td>\n",
       "      <td>250.0</td>\n",
       "      <td>NaN</td>\n",
       "      <td>NaN</td>\n",
       "      <td>-37.59889</td>\n",
       "      <td>144.89668</td>\n",
       "      <td>Northern Metropolitan</td>\n",
       "      <td>15510.0</td>\n",
       "    </tr>\n",
       "  </tbody>\n",
       "</table>\n",
       "</div>"
      ],
      "text/plain": [
       "             Suburb  Rooms Type      Price        Date  Distance  Bedroom2  \\\n",
       "24807       Wollert      4    h   335000.0  14/10/2017      25.5       NaN   \n",
       "26177       Mentone      1    u   385000.0  28/10/2017      20.0       NaN   \n",
       "27157       Mentone      5    h  1200000.0  11/11/2017      20.0       NaN   \n",
       "29197  Williamstown      3    h  1145000.0  25/11/2017       6.8       NaN   \n",
       "34114    Cheltenham      2    t   682000.0  24/02/2018      17.9       NaN   \n",
       "34149   Craigieburn      3    h   438000.0  24/02/2018      20.6       NaN   \n",
       "\n",
       "       Bathroom  Car  Landsize  BuildingArea  YearBuilt  Lattitude  \\\n",
       "24807       NaN  NaN     446.0           NaN        NaN  -37.61939   \n",
       "26177       NaN  NaN     239.0           NaN        NaN  -37.98223   \n",
       "27157       NaN  NaN     594.0           NaN        NaN  -37.97700   \n",
       "29197       NaN  NaN     549.0           NaN        NaN  -37.85250   \n",
       "34114       NaN  NaN     338.0           NaN        NaN  -37.97144   \n",
       "34149       NaN  NaN     250.0           NaN        NaN  -37.59889   \n",
       "\n",
       "       Longtitude                  Regionname  Propertycount  \n",
       "24807   145.03831       Northern Metropolitan         2940.0  \n",
       "26177   145.06781  South-Eastern Metropolitan         6162.0  \n",
       "27157   145.07880  South-Eastern Metropolitan         6162.0  \n",
       "29197   144.88720        Western Metropolitan         6380.0  \n",
       "34114   145.07268       Southern Metropolitan         9758.0  \n",
       "34149   144.89668       Northern Metropolitan        15510.0  "
      ]
     },
     "execution_count": 628,
     "metadata": {},
     "output_type": "execute_result"
    }
   ],
   "source": [
    "df_clean[df_clean[\"Bedroom2\"].isnull()]"
   ]
  },
  {
   "cell_type": "code",
   "execution_count": 629,
   "id": "c8c13053-64b4-4d15-8695-2cf1edbe29c7",
   "metadata": {},
   "outputs": [],
   "source": [
    "diff_rooms = df_clean[\"Rooms\"] - df_clean[\"Bedroom2\"]"
   ]
  },
  {
   "cell_type": "code",
   "execution_count": 630,
   "id": "ae33d088-73fe-4699-9385-ad3e34dbe2fc",
   "metadata": {},
   "outputs": [
    {
     "data": {
      "text/plain": [
       "'314/20812 rows have a room value that is different from the bedroom value.'"
      ]
     },
     "execution_count": 630,
     "metadata": {},
     "output_type": "execute_result"
    }
   ],
   "source": [
    "f\"{int(diff_rooms.sum())}/{diff_rooms.shape[0]} rows have a room value that is different from the bedroom value.\""
   ]
  },
  {
   "cell_type": "markdown",
   "id": "ff5db7e2-7788-44b5-aae1-48bdc7f997b1",
   "metadata": {},
   "source": [
    "99% of the properties in the dataset have the same value for the Rooms column as they do for the Bedroom2 column. I am going to use this to impute the missing values for the Bedroom2 column with the Rooms column."
   ]
  },
  {
   "cell_type": "code",
   "execution_count": 631,
   "id": "5104cde7-bbe0-4901-bbe0-4dd2558ab430",
   "metadata": {},
   "outputs": [],
   "source": [
    "mask = df_clean[\"Bedroom2\"].isnull()\n",
    "df_clean.loc[mask, 'Bedroom2'] = df_clean['Rooms']"
   ]
  },
  {
   "cell_type": "markdown",
   "id": "d3d609b0-1fa6-482c-9b08-98985bb687b9",
   "metadata": {},
   "source": [
    "##### Bathrooms Feature"
   ]
  },
  {
   "cell_type": "markdown",
   "id": "21a82507-a4be-49de-92be-978aec834b2b",
   "metadata": {},
   "source": [
    "We are going to fill the missing values for the bathroom column by using the Bedroom2 column and finding the average number of bathrooms for the number of bedrooms. So we will be able to impute the value by getting the number of Bedrooms (e.g. 4) and finding what the average number of bathrooms there are for all the 4 bedroom properties in the dataset."
   ]
  },
  {
   "cell_type": "code",
   "execution_count": 632,
   "id": "1a4ede04-edf4-4542-b88f-18922e624842",
   "metadata": {},
   "outputs": [],
   "source": [
    "bathroom_map = df_clean.groupby(by=[\"Bedroom2\"])[[\"Bathroom\"]].mean()\n",
    "\n",
    "def get_bathroom(x):\n",
    "    bedroom_num = x.Bedroom2\n",
    "    x.Bathroom = round(bathroom_map.loc[bedroom_num].Bathroom)\n",
    "    return x"
   ]
  },
  {
   "cell_type": "code",
   "execution_count": 633,
   "id": "b95570be-4cbf-4458-9a85-6230edd56a3a",
   "metadata": {
    "scrolled": true
   },
   "outputs": [],
   "source": [
    "df_clean[df_clean[\"Bathroom\"].isnull()] = df_clean[df_clean[\"Bathroom\"].isnull()].apply(get_bathroom, axis=1)"
   ]
  },
  {
   "cell_type": "markdown",
   "id": "61c35235-0713-4ea1-bbfe-7b28e145c74d",
   "metadata": {},
   "source": [
    "##### Car Feature"
   ]
  },
  {
   "cell_type": "markdown",
   "id": "33f3b59a-fb8b-4880-b590-305f067a7f94",
   "metadata": {},
   "source": [
    "We will apply the same process above to the Car column however with the addition of another column when determining the average. We will be using both the Rooms column and the Bedroom2 column to determine the Car value. I chose these two columns based on the correlation matrix in the data exploration section."
   ]
  },
  {
   "cell_type": "code",
   "execution_count": 634,
   "id": "900a1647-38b9-4386-87b2-237c27aa01af",
   "metadata": {},
   "outputs": [],
   "source": [
    "car_map = df_clean.groupby(by=[\"Rooms\", \"Bedroom2\"])[[\"Car\"]].mean()\n",
    "\n",
    "def get_car(x):\n",
    "    room_num = x.Rooms\n",
    "    bedroom_num = x.Bedroom2\n",
    "    x.Car = round(car_map.loc[room_num, bedroom_num].Car)\n",
    "    return x"
   ]
  },
  {
   "cell_type": "code",
   "execution_count": 635,
   "id": "dec626d9-4ff0-443e-8581-cabb33a0e753",
   "metadata": {},
   "outputs": [],
   "source": [
    "df_clean[df_clean[\"Car\"].isnull()] = df_clean[df_clean[\"Car\"].isnull()].apply(get_car, axis=1)"
   ]
  },
  {
   "cell_type": "code",
   "execution_count": 636,
   "id": "cfc6296f-271a-4ab9-962a-eb0758c5ffb6",
   "metadata": {},
   "outputs": [
    {
     "data": {
      "text/plain": [
       "Suburb               0\n",
       "Rooms                0\n",
       "Type                 0\n",
       "Price                0\n",
       "Date                 0\n",
       "Distance             0\n",
       "Bedroom2             0\n",
       "Bathroom             0\n",
       "Car                  0\n",
       "Landsize          2830\n",
       "BuildingArea     10156\n",
       "YearBuilt         8728\n",
       "Lattitude           22\n",
       "Longtitude          22\n",
       "Regionname           0\n",
       "Propertycount        0\n",
       "dtype: int64"
      ]
     },
     "execution_count": 636,
     "metadata": {},
     "output_type": "execute_result"
    }
   ],
   "source": [
    "df_clean.isnull().sum()"
   ]
  },
  {
   "cell_type": "markdown",
   "id": "9a10ff86-7dbf-473c-9dd2-284434b78a2f",
   "metadata": {},
   "source": [
    "#### Dealing with missing location values"
   ]
  },
  {
   "cell_type": "code",
   "execution_count": 637,
   "id": "87ef5ba8-8e78-489f-8e06-a2a4bde4e42a",
   "metadata": {},
   "outputs": [
    {
     "data": {
      "text/html": [
       "<div>\n",
       "<style scoped>\n",
       "    .dataframe tbody tr th:only-of-type {\n",
       "        vertical-align: middle;\n",
       "    }\n",
       "\n",
       "    .dataframe tbody tr th {\n",
       "        vertical-align: top;\n",
       "    }\n",
       "\n",
       "    .dataframe thead th {\n",
       "        text-align: right;\n",
       "    }\n",
       "</style>\n",
       "<table border=\"1\" class=\"dataframe\">\n",
       "  <thead>\n",
       "    <tr style=\"text-align: right;\">\n",
       "      <th></th>\n",
       "      <th>Suburb</th>\n",
       "      <th>Rooms</th>\n",
       "      <th>Type</th>\n",
       "      <th>Price</th>\n",
       "      <th>Date</th>\n",
       "      <th>Distance</th>\n",
       "      <th>Bedroom2</th>\n",
       "      <th>Bathroom</th>\n",
       "      <th>Car</th>\n",
       "      <th>Landsize</th>\n",
       "      <th>BuildingArea</th>\n",
       "      <th>YearBuilt</th>\n",
       "      <th>Lattitude</th>\n",
       "      <th>Longtitude</th>\n",
       "      <th>Regionname</th>\n",
       "      <th>Propertycount</th>\n",
       "    </tr>\n",
       "  </thead>\n",
       "  <tbody>\n",
       "    <tr>\n",
       "      <th>2572</th>\n",
       "      <td>Burwood</td>\n",
       "      <td>3</td>\n",
       "      <td>h</td>\n",
       "      <td>990000.0</td>\n",
       "      <td>17/09/2016</td>\n",
       "      <td>11.7</td>\n",
       "      <td>3.0</td>\n",
       "      <td>2.0</td>\n",
       "      <td>2.0</td>\n",
       "      <td>263.0</td>\n",
       "      <td>NaN</td>\n",
       "      <td>NaN</td>\n",
       "      <td>NaN</td>\n",
       "      <td>NaN</td>\n",
       "      <td>Southern Metropolitan</td>\n",
       "      <td>5678.0</td>\n",
       "    </tr>\n",
       "    <tr>\n",
       "      <th>3257</th>\n",
       "      <td>Clifton Hill</td>\n",
       "      <td>1</td>\n",
       "      <td>u</td>\n",
       "      <td>363000.0</td>\n",
       "      <td>27/06/2016</td>\n",
       "      <td>3.4</td>\n",
       "      <td>1.0</td>\n",
       "      <td>1.0</td>\n",
       "      <td>1.0</td>\n",
       "      <td>0.0</td>\n",
       "      <td>NaN</td>\n",
       "      <td>NaN</td>\n",
       "      <td>NaN</td>\n",
       "      <td>NaN</td>\n",
       "      <td>Northern Metropolitan</td>\n",
       "      <td>2954.0</td>\n",
       "    </tr>\n",
       "    <tr>\n",
       "      <th>4485</th>\n",
       "      <td>Footscray</td>\n",
       "      <td>3</td>\n",
       "      <td>t</td>\n",
       "      <td>781000.0</td>\n",
       "      <td>27/11/2016</td>\n",
       "      <td>6.4</td>\n",
       "      <td>3.0</td>\n",
       "      <td>2.0</td>\n",
       "      <td>2.0</td>\n",
       "      <td>98.0</td>\n",
       "      <td>169.0</td>\n",
       "      <td>2015.0</td>\n",
       "      <td>NaN</td>\n",
       "      <td>NaN</td>\n",
       "      <td>Western Metropolitan</td>\n",
       "      <td>7570.0</td>\n",
       "    </tr>\n",
       "    <tr>\n",
       "      <th>5170</th>\n",
       "      <td>Hampton East</td>\n",
       "      <td>4</td>\n",
       "      <td>t</td>\n",
       "      <td>1185000.0</td>\n",
       "      <td>28/05/2016</td>\n",
       "      <td>14.5</td>\n",
       "      <td>4.0</td>\n",
       "      <td>3.0</td>\n",
       "      <td>1.0</td>\n",
       "      <td>300.0</td>\n",
       "      <td>NaN</td>\n",
       "      <td>NaN</td>\n",
       "      <td>NaN</td>\n",
       "      <td>NaN</td>\n",
       "      <td>Southern Metropolitan</td>\n",
       "      <td>2356.0</td>\n",
       "    </tr>\n",
       "    <tr>\n",
       "      <th>10745</th>\n",
       "      <td>Williamstown North</td>\n",
       "      <td>1</td>\n",
       "      <td>u</td>\n",
       "      <td>355000.0</td>\n",
       "      <td>27/11/2016</td>\n",
       "      <td>8.9</td>\n",
       "      <td>1.0</td>\n",
       "      <td>1.0</td>\n",
       "      <td>1.0</td>\n",
       "      <td>46.0</td>\n",
       "      <td>46.0</td>\n",
       "      <td>NaN</td>\n",
       "      <td>NaN</td>\n",
       "      <td>NaN</td>\n",
       "      <td>Western Metropolitan</td>\n",
       "      <td>802.0</td>\n",
       "    </tr>\n",
       "  </tbody>\n",
       "</table>\n",
       "</div>"
      ],
      "text/plain": [
       "                   Suburb  Rooms Type      Price        Date  Distance  \\\n",
       "2572              Burwood      3    h   990000.0  17/09/2016      11.7   \n",
       "3257         Clifton Hill      1    u   363000.0  27/06/2016       3.4   \n",
       "4485            Footscray      3    t   781000.0  27/11/2016       6.4   \n",
       "5170         Hampton East      4    t  1185000.0  28/05/2016      14.5   \n",
       "10745  Williamstown North      1    u   355000.0  27/11/2016       8.9   \n",
       "\n",
       "       Bedroom2  Bathroom  Car  Landsize  BuildingArea  YearBuilt  Lattitude  \\\n",
       "2572        3.0       2.0  2.0     263.0           NaN        NaN        NaN   \n",
       "3257        1.0       1.0  1.0       0.0           NaN        NaN        NaN   \n",
       "4485        3.0       2.0  2.0      98.0         169.0     2015.0        NaN   \n",
       "5170        4.0       3.0  1.0     300.0           NaN        NaN        NaN   \n",
       "10745       1.0       1.0  1.0      46.0          46.0        NaN        NaN   \n",
       "\n",
       "       Longtitude             Regionname  Propertycount  \n",
       "2572          NaN  Southern Metropolitan         5678.0  \n",
       "3257          NaN  Northern Metropolitan         2954.0  \n",
       "4485          NaN   Western Metropolitan         7570.0  \n",
       "5170          NaN  Southern Metropolitan         2356.0  \n",
       "10745         NaN   Western Metropolitan          802.0  "
      ]
     },
     "execution_count": 637,
     "metadata": {},
     "output_type": "execute_result"
    }
   ],
   "source": [
    "df_clean[(df_clean[\"Lattitude\"].isnull()) & (df_clean[\"Longtitude\"].isnull())].head()"
   ]
  },
  {
   "cell_type": "markdown",
   "id": "7d8ceceb-e4ff-4e87-8b85-1f8508c9bb2c",
   "metadata": {},
   "source": [
    "There are very few missing values for longitude and latitude. All the rows that have a missing longitude value also have a missing latitude value (and vice versa); I will impute the property location from the Suburb and it's corresponding longitude and latitude (Manually built from Google Maps).\n",
    "\n",
    "Because there are such few missing values, this should not effect the distribution of the property locations while still keeping the longitude and latitude columns."
   ]
  },
  {
   "cell_type": "markdown",
   "id": "e07b1271-fd6e-4868-b091-45e9ebc1c367",
   "metadata": {},
   "source": [
    "##### Build Dictionary that maps Suburb to its corresponding location"
   ]
  },
  {
   "cell_type": "code",
   "execution_count": 638,
   "id": "86f76fa7-accb-4482-a6ba-9e9e8fca1cd8",
   "metadata": {},
   "outputs": [
    {
     "data": {
      "text/plain": [
       "array(['Burwood', 'Clifton Hill', 'Footscray', 'Hampton East',\n",
       "       'Williamstown North', 'Melbourne', 'Brooklyn', 'North Melbourne',\n",
       "       'Oakleigh South', 'Essendon', 'Seddon', 'Croydon', 'Kensington',\n",
       "       'Strathmore', 'Keysborough', 'Lalor', 'Mickleham', 'Wollert',\n",
       "       'Greenvale'], dtype=object)"
      ]
     },
     "execution_count": 638,
     "metadata": {},
     "output_type": "execute_result"
    }
   ],
   "source": [
    "df_clean[(df_clean[\"Lattitude\"].isnull()) & (df_clean[\"Longtitude\"].isnull())].Suburb.unique()"
   ]
  },
  {
   "cell_type": "code",
   "execution_count": 639,
   "id": "2a363b21-0335-44ee-886c-65f2b10dd6e6",
   "metadata": {},
   "outputs": [],
   "source": [
    "suburb_location_map = {\"Burwood\": {\"latitude\": -37.84879, \"longitude\": 145.10812},\n",
    "                        \"Clifton Hill\": {\"latitude\": -37.78758, \"longitude\": 144.99984},\n",
    "                        \"Footscray\": {\"latitude\": -37.79862, \"longitude\": 144.89782},\n",
    "                        \"Hampton East\": {\"latitude\": -37.93836, \"longitude\": 145.03155},\n",
    "                        \"Williamstown North\": {\"latitude\": -37.85173, \"longitude\": 144.86235},\n",
    "                        \"Melbourne\": {\"latitude\": -37.81394, \"longitude\": 144.96572},\n",
    "                        \"Brooklyn\": {\"latitude\": -37.81746, \"longitude\": 144.84659},\n",
    "                       \"North Melbourne\": {\"latitude\": -37.80090, \"longitude\": 144.94888},\n",
    "                       \"Oakleigh South\": {\"latitude\": -37.92603, \"longitude\": 145.09528},\n",
    "                       \"Essendon\": {\"latitude\": -37.75286, \"longitude\": 144.91533},\n",
    "                       \"Seddon\": {\"latitude\": -37.80671, \"longitude\": 144.89225},\n",
    "                       \"Croydon\": {\"latitude\": -37.79465, \"longitude\": 145.28255},\n",
    "                       \"Kensington\": {\"latitude\": -37.79404, \"longitude\": 144.92778},\n",
    "                       \"Strathmore\": {\"latitude\": -37.73414, \"longitude\": 144.91948},\n",
    "                       \"Keysborough\": {\"latitude\": -37.99932, \"longitude\": 145.17356},\n",
    "                       \"Lalor\": {\"latitude\": -37.66561, \"longitude\": 145.01678},\n",
    "                       \"Mickleham\": {\"latitude\": -37.53447, \"longitude\": 144.90723},\n",
    "                       \"Wollert\": {\"latitude\": -37.60879, \"longitude\": 145.03201},\n",
    "                       \"Greenvale\": {\"latitude\": -37.63989, \"longitude\": 144.88238},\n",
    "                      }"
   ]
  },
  {
   "cell_type": "markdown",
   "id": "797dfa67-b64a-4e30-8757-578866de8363",
   "metadata": {},
   "source": [
    "##### Map locations to null values"
   ]
  },
  {
   "cell_type": "code",
   "execution_count": 640,
   "id": "48f97fcd-ab68-4b3c-8261-2c5bf89fefc4",
   "metadata": {},
   "outputs": [],
   "source": [
    "def fill_lat_lon(x):\n",
    "    sub = suburb_location_map[x.Suburb]\n",
    "    x.Lattitude = sub['latitude']\n",
    "    x.Longtitude = sub['longitude']\n",
    "    return x\n",
    "\n",
    "df_clean[(df_clean[\"Lattitude\"].isnull()) & (df_clean[\"Longtitude\"].isnull())] = df_clean[(df_clean[\"Lattitude\"].isnull()) & (df_clean[\"Longtitude\"].isnull())].apply(fill_lat_lon ,axis=1)"
   ]
  },
  {
   "cell_type": "code",
   "execution_count": 641,
   "id": "f02849a3-61d4-4db9-86b9-5d29f667ba93",
   "metadata": {},
   "outputs": [
    {
     "data": {
      "text/plain": [
       "Suburb               0\n",
       "Rooms                0\n",
       "Type                 0\n",
       "Price                0\n",
       "Date                 0\n",
       "Distance             0\n",
       "Bedroom2             0\n",
       "Bathroom             0\n",
       "Car                  0\n",
       "Landsize          2830\n",
       "BuildingArea     10156\n",
       "YearBuilt         8728\n",
       "Lattitude            0\n",
       "Longtitude           0\n",
       "Regionname           0\n",
       "Propertycount        0\n",
       "dtype: int64"
      ]
     },
     "execution_count": 641,
     "metadata": {},
     "output_type": "execute_result"
    }
   ],
   "source": [
    "df_clean.isnull().sum()"
   ]
  },
  {
   "cell_type": "markdown",
   "id": "d3871fa5-7cc6-4dd4-9860-5d1046f7a6df",
   "metadata": {},
   "source": [
    "#### Dealing with Landsize and building area"
   ]
  },
  {
   "cell_type": "code",
   "execution_count": 642,
   "id": "8698443c-d6c6-4b9a-8074-4333b659d015",
   "metadata": {},
   "outputs": [
    {
     "name": "stdout",
     "output_type": "stream",
     "text": [
      "Proportion of missing building area values: 0.49\n",
      "\n"
     ]
    },
    {
     "data": {
      "text/html": [
       "<div>\n",
       "<style scoped>\n",
       "    .dataframe tbody tr th:only-of-type {\n",
       "        vertical-align: middle;\n",
       "    }\n",
       "\n",
       "    .dataframe tbody tr th {\n",
       "        vertical-align: top;\n",
       "    }\n",
       "\n",
       "    .dataframe thead th {\n",
       "        text-align: right;\n",
       "    }\n",
       "</style>\n",
       "<table border=\"1\" class=\"dataframe\">\n",
       "  <thead>\n",
       "    <tr style=\"text-align: right;\">\n",
       "      <th></th>\n",
       "      <th>Suburb</th>\n",
       "      <th>Rooms</th>\n",
       "      <th>Type</th>\n",
       "      <th>Price</th>\n",
       "      <th>Date</th>\n",
       "      <th>Distance</th>\n",
       "      <th>Bedroom2</th>\n",
       "      <th>Bathroom</th>\n",
       "      <th>Car</th>\n",
       "      <th>Landsize</th>\n",
       "      <th>BuildingArea</th>\n",
       "      <th>YearBuilt</th>\n",
       "      <th>Lattitude</th>\n",
       "      <th>Longtitude</th>\n",
       "      <th>Regionname</th>\n",
       "      <th>Propertycount</th>\n",
       "    </tr>\n",
       "  </thead>\n",
       "  <tbody>\n",
       "    <tr>\n",
       "      <th>1</th>\n",
       "      <td>Abbotsford</td>\n",
       "      <td>2</td>\n",
       "      <td>h</td>\n",
       "      <td>1480000.0</td>\n",
       "      <td>3/12/2016</td>\n",
       "      <td>2.5</td>\n",
       "      <td>2.0</td>\n",
       "      <td>1.0</td>\n",
       "      <td>1.0</td>\n",
       "      <td>202.0</td>\n",
       "      <td>NaN</td>\n",
       "      <td>NaN</td>\n",
       "      <td>-37.7996</td>\n",
       "      <td>144.9984</td>\n",
       "      <td>Northern Metropolitan</td>\n",
       "      <td>4019.0</td>\n",
       "    </tr>\n",
       "    <tr>\n",
       "      <th>5</th>\n",
       "      <td>Abbotsford</td>\n",
       "      <td>3</td>\n",
       "      <td>h</td>\n",
       "      <td>850000.0</td>\n",
       "      <td>4/03/2017</td>\n",
       "      <td>2.5</td>\n",
       "      <td>3.0</td>\n",
       "      <td>2.0</td>\n",
       "      <td>1.0</td>\n",
       "      <td>94.0</td>\n",
       "      <td>NaN</td>\n",
       "      <td>NaN</td>\n",
       "      <td>-37.7969</td>\n",
       "      <td>144.9969</td>\n",
       "      <td>Northern Metropolitan</td>\n",
       "      <td>4019.0</td>\n",
       "    </tr>\n",
       "    <tr>\n",
       "      <th>10</th>\n",
       "      <td>Abbotsford</td>\n",
       "      <td>2</td>\n",
       "      <td>h</td>\n",
       "      <td>941000.0</td>\n",
       "      <td>7/05/2016</td>\n",
       "      <td>2.5</td>\n",
       "      <td>2.0</td>\n",
       "      <td>1.0</td>\n",
       "      <td>0.0</td>\n",
       "      <td>181.0</td>\n",
       "      <td>NaN</td>\n",
       "      <td>NaN</td>\n",
       "      <td>-37.8041</td>\n",
       "      <td>144.9953</td>\n",
       "      <td>Northern Metropolitan</td>\n",
       "      <td>4019.0</td>\n",
       "    </tr>\n",
       "    <tr>\n",
       "      <th>17</th>\n",
       "      <td>Abbotsford</td>\n",
       "      <td>1</td>\n",
       "      <td>u</td>\n",
       "      <td>300000.0</td>\n",
       "      <td>8/10/2016</td>\n",
       "      <td>2.5</td>\n",
       "      <td>1.0</td>\n",
       "      <td>1.0</td>\n",
       "      <td>1.0</td>\n",
       "      <td>0.0</td>\n",
       "      <td>NaN</td>\n",
       "      <td>NaN</td>\n",
       "      <td>-37.8008</td>\n",
       "      <td>144.9973</td>\n",
       "      <td>Northern Metropolitan</td>\n",
       "      <td>4019.0</td>\n",
       "    </tr>\n",
       "    <tr>\n",
       "      <th>23</th>\n",
       "      <td>Abbotsford</td>\n",
       "      <td>2</td>\n",
       "      <td>u</td>\n",
       "      <td>700000.0</td>\n",
       "      <td>12/11/2016</td>\n",
       "      <td>2.5</td>\n",
       "      <td>2.0</td>\n",
       "      <td>2.0</td>\n",
       "      <td>1.0</td>\n",
       "      <td>0.0</td>\n",
       "      <td>NaN</td>\n",
       "      <td>NaN</td>\n",
       "      <td>-37.8110</td>\n",
       "      <td>145.0067</td>\n",
       "      <td>Northern Metropolitan</td>\n",
       "      <td>4019.0</td>\n",
       "    </tr>\n",
       "  </tbody>\n",
       "</table>\n",
       "</div>"
      ],
      "text/plain": [
       "        Suburb  Rooms Type      Price        Date  Distance  Bedroom2  \\\n",
       "1   Abbotsford      2    h  1480000.0   3/12/2016       2.5       2.0   \n",
       "5   Abbotsford      3    h   850000.0   4/03/2017       2.5       3.0   \n",
       "10  Abbotsford      2    h   941000.0   7/05/2016       2.5       2.0   \n",
       "17  Abbotsford      1    u   300000.0   8/10/2016       2.5       1.0   \n",
       "23  Abbotsford      2    u   700000.0  12/11/2016       2.5       2.0   \n",
       "\n",
       "    Bathroom  Car  Landsize  BuildingArea  YearBuilt  Lattitude  Longtitude  \\\n",
       "1        1.0  1.0     202.0           NaN        NaN   -37.7996    144.9984   \n",
       "5        2.0  1.0      94.0           NaN        NaN   -37.7969    144.9969   \n",
       "10       1.0  0.0     181.0           NaN        NaN   -37.8041    144.9953   \n",
       "17       1.0  1.0       0.0           NaN        NaN   -37.8008    144.9973   \n",
       "23       2.0  1.0       0.0           NaN        NaN   -37.8110    145.0067   \n",
       "\n",
       "               Regionname  Propertycount  \n",
       "1   Northern Metropolitan         4019.0  \n",
       "5   Northern Metropolitan         4019.0  \n",
       "10  Northern Metropolitan         4019.0  \n",
       "17  Northern Metropolitan         4019.0  \n",
       "23  Northern Metropolitan         4019.0  "
      ]
     },
     "execution_count": 642,
     "metadata": {},
     "output_type": "execute_result"
    }
   ],
   "source": [
    "print(f\"Proportion of missing building area values: {round(df_clean.BuildingArea.isnull().sum() / df_clean.shape[0], 2)}\\n\")\n",
    "\n",
    "df_clean[df_clean.BuildingArea.isnull()].head()"
   ]
  },
  {
   "cell_type": "markdown",
   "id": "76358f4a-0c42-4c9a-8a6c-55017b300cf4",
   "metadata": {},
   "source": [
    "With almost 50% of the rows missing a BuildingArea value, it would be safe to drop this column as we would not be able to impute a semi-accurate value for the missing rows. However, there is potential to use this column to help impute the Landsize column for missing values."
   ]
  },
  {
   "cell_type": "code",
   "execution_count": 643,
   "id": "8e9ee6aa-8d21-493e-9232-2b1c554556ea",
   "metadata": {},
   "outputs": [
    {
     "name": "stdout",
     "output_type": "stream",
     "text": [
      "(4772, 16)\n"
     ]
    },
    {
     "data": {
      "text/html": [
       "<div>\n",
       "<style scoped>\n",
       "    .dataframe tbody tr th:only-of-type {\n",
       "        vertical-align: middle;\n",
       "    }\n",
       "\n",
       "    .dataframe tbody tr th {\n",
       "        vertical-align: top;\n",
       "    }\n",
       "\n",
       "    .dataframe thead th {\n",
       "        text-align: right;\n",
       "    }\n",
       "</style>\n",
       "<table border=\"1\" class=\"dataframe\">\n",
       "  <thead>\n",
       "    <tr style=\"text-align: right;\">\n",
       "      <th></th>\n",
       "      <th>Suburb</th>\n",
       "      <th>Rooms</th>\n",
       "      <th>Type</th>\n",
       "      <th>Price</th>\n",
       "      <th>Date</th>\n",
       "      <th>Distance</th>\n",
       "      <th>Bedroom2</th>\n",
       "      <th>Bathroom</th>\n",
       "      <th>Car</th>\n",
       "      <th>Landsize</th>\n",
       "      <th>BuildingArea</th>\n",
       "      <th>YearBuilt</th>\n",
       "      <th>Lattitude</th>\n",
       "      <th>Longtitude</th>\n",
       "      <th>Regionname</th>\n",
       "      <th>Propertycount</th>\n",
       "    </tr>\n",
       "  </thead>\n",
       "  <tbody>\n",
       "    <tr>\n",
       "      <th>17</th>\n",
       "      <td>Abbotsford</td>\n",
       "      <td>1</td>\n",
       "      <td>u</td>\n",
       "      <td>300000.0</td>\n",
       "      <td>8/10/2016</td>\n",
       "      <td>2.5</td>\n",
       "      <td>1.0</td>\n",
       "      <td>1.0</td>\n",
       "      <td>1.0</td>\n",
       "      <td>0.0</td>\n",
       "      <td>NaN</td>\n",
       "      <td>NaN</td>\n",
       "      <td>-37.8008</td>\n",
       "      <td>144.9973</td>\n",
       "      <td>Northern Metropolitan</td>\n",
       "      <td>4019.0</td>\n",
       "    </tr>\n",
       "    <tr>\n",
       "      <th>23</th>\n",
       "      <td>Abbotsford</td>\n",
       "      <td>2</td>\n",
       "      <td>u</td>\n",
       "      <td>700000.0</td>\n",
       "      <td>12/11/2016</td>\n",
       "      <td>2.5</td>\n",
       "      <td>2.0</td>\n",
       "      <td>2.0</td>\n",
       "      <td>1.0</td>\n",
       "      <td>0.0</td>\n",
       "      <td>NaN</td>\n",
       "      <td>NaN</td>\n",
       "      <td>-37.8110</td>\n",
       "      <td>145.0067</td>\n",
       "      <td>Northern Metropolitan</td>\n",
       "      <td>4019.0</td>\n",
       "    </tr>\n",
       "    <tr>\n",
       "      <th>25</th>\n",
       "      <td>Abbotsford</td>\n",
       "      <td>2</td>\n",
       "      <td>u</td>\n",
       "      <td>750000.0</td>\n",
       "      <td>12/11/2016</td>\n",
       "      <td>2.5</td>\n",
       "      <td>2.0</td>\n",
       "      <td>2.0</td>\n",
       "      <td>1.0</td>\n",
       "      <td>0.0</td>\n",
       "      <td>94.0</td>\n",
       "      <td>2009.0</td>\n",
       "      <td>-37.8078</td>\n",
       "      <td>144.9965</td>\n",
       "      <td>Northern Metropolitan</td>\n",
       "      <td>4019.0</td>\n",
       "    </tr>\n",
       "    <tr>\n",
       "      <th>29</th>\n",
       "      <td>Abbotsford</td>\n",
       "      <td>1</td>\n",
       "      <td>u</td>\n",
       "      <td>441000.0</td>\n",
       "      <td>14/05/2016</td>\n",
       "      <td>2.5</td>\n",
       "      <td>1.0</td>\n",
       "      <td>1.0</td>\n",
       "      <td>1.0</td>\n",
       "      <td>0.0</td>\n",
       "      <td>NaN</td>\n",
       "      <td>NaN</td>\n",
       "      <td>-37.8016</td>\n",
       "      <td>144.9988</td>\n",
       "      <td>Northern Metropolitan</td>\n",
       "      <td>4019.0</td>\n",
       "    </tr>\n",
       "    <tr>\n",
       "      <th>40</th>\n",
       "      <td>Abbotsford</td>\n",
       "      <td>3</td>\n",
       "      <td>t</td>\n",
       "      <td>900000.0</td>\n",
       "      <td>18/03/2017</td>\n",
       "      <td>2.5</td>\n",
       "      <td>3.0</td>\n",
       "      <td>2.0</td>\n",
       "      <td>2.0</td>\n",
       "      <td>0.0</td>\n",
       "      <td>NaN</td>\n",
       "      <td>2010.0</td>\n",
       "      <td>-37.8093</td>\n",
       "      <td>144.9959</td>\n",
       "      <td>Northern Metropolitan</td>\n",
       "      <td>4019.0</td>\n",
       "    </tr>\n",
       "  </tbody>\n",
       "</table>\n",
       "</div>"
      ],
      "text/plain": [
       "        Suburb  Rooms Type     Price        Date  Distance  Bedroom2  \\\n",
       "17  Abbotsford      1    u  300000.0   8/10/2016       2.5       1.0   \n",
       "23  Abbotsford      2    u  700000.0  12/11/2016       2.5       2.0   \n",
       "25  Abbotsford      2    u  750000.0  12/11/2016       2.5       2.0   \n",
       "29  Abbotsford      1    u  441000.0  14/05/2016       2.5       1.0   \n",
       "40  Abbotsford      3    t  900000.0  18/03/2017       2.5       3.0   \n",
       "\n",
       "    Bathroom  Car  Landsize  BuildingArea  YearBuilt  Lattitude  Longtitude  \\\n",
       "17       1.0  1.0       0.0           NaN        NaN   -37.8008    144.9973   \n",
       "23       2.0  1.0       0.0           NaN        NaN   -37.8110    145.0067   \n",
       "25       2.0  1.0       0.0          94.0     2009.0   -37.8078    144.9965   \n",
       "29       1.0  1.0       0.0           NaN        NaN   -37.8016    144.9988   \n",
       "40       2.0  2.0       0.0           NaN     2010.0   -37.8093    144.9959   \n",
       "\n",
       "               Regionname  Propertycount  \n",
       "17  Northern Metropolitan         4019.0  \n",
       "23  Northern Metropolitan         4019.0  \n",
       "25  Northern Metropolitan         4019.0  \n",
       "29  Northern Metropolitan         4019.0  \n",
       "40  Northern Metropolitan         4019.0  "
      ]
     },
     "execution_count": 643,
     "metadata": {},
     "output_type": "execute_result"
    }
   ],
   "source": [
    "missing_landsize = (df_clean.Landsize.isnull()) | (df_clean.Landsize == 0)\n",
    "print(df_clean.loc[missing_landsize].shape)\n",
    "df_clean.loc[missing_landsize].head()"
   ]
  },
  {
   "cell_type": "markdown",
   "id": "1cd95c87-6dbf-4a1f-8e9c-797113374480",
   "metadata": {},
   "source": [
    "##### Fill in the missing Landsize value with the BuildingArea"
   ]
  },
  {
   "cell_type": "code",
   "execution_count": 644,
   "id": "e417b50d-a48d-4707-901e-d4d7af902455",
   "metadata": {},
   "outputs": [
    {
     "data": {
      "text/plain": [
       "(2449, 16)"
      ]
     },
     "execution_count": 644,
     "metadata": {},
     "output_type": "execute_result"
    }
   ],
   "source": [
    "df_clean.loc[missing_landsize, \"Landsize\"] = df_clean['BuildingArea']\n",
    "df_clean[(df_clean.Landsize.isnull()) | (df_clean.Landsize == 0)].shape"
   ]
  },
  {
   "cell_type": "markdown",
   "id": "3fc80723-1e49-45cd-8056-d4e7e4918516",
   "metadata": {},
   "source": [
    "##### Drop the BuildingArea column"
   ]
  },
  {
   "cell_type": "code",
   "execution_count": 645,
   "id": "056ec714-95dc-4464-806b-388894727080",
   "metadata": {},
   "outputs": [],
   "source": [
    "df_clean.drop(\"BuildingArea\",axis=1, inplace=True)"
   ]
  },
  {
   "cell_type": "markdown",
   "id": "f760fe84-54aa-48fe-98c1-9ef717ce7121",
   "metadata": {},
   "source": [
    "##### Impute the final missing values for the Landsize column"
   ]
  },
  {
   "cell_type": "markdown",
   "id": "9ff264ac-5335-4aa7-8d99-24fb29531f1e",
   "metadata": {},
   "source": [
    "To impute the final missing values for the Landsize column. We are going to use the average Landsize based on the type of property and the number of rooms to determine the new value for the row."
   ]
  },
  {
   "cell_type": "code",
   "execution_count": 646,
   "id": "b00ff045-2c0c-40da-9b5b-3d74434cbbb0",
   "metadata": {},
   "outputs": [],
   "source": [
    "landsize_map = df_clean.groupby(by=[\"Type\", \"Rooms\"])[[\"Landsize\"]].mean()\n",
    "\n",
    "def get_landsize(x):\n",
    "    pType = x.Type\n",
    "    rooms_num = x.Rooms\n",
    "    if (np.isnan(landsize_map.loc[pType, rooms_num].Landsize)):\n",
    "        x.Landsize = df_clean.Landsize.mean()\n",
    "    else:\n",
    "        x.Landsize = round(landsize_map.loc[pType, rooms_num].Landsize)\n",
    "        \n",
    "    return x"
   ]
  },
  {
   "cell_type": "code",
   "execution_count": 647,
   "id": "01984d0c-045e-4af6-9e49-5f5b21cff305",
   "metadata": {},
   "outputs": [],
   "source": [
    "df_clean[(df_clean.Landsize.isnull()) | (df_clean.Landsize == 0)] = df_clean[(df_clean.Landsize.isnull()) | (df_clean.Landsize == 0)].apply(get_landsize, axis=1)"
   ]
  },
  {
   "cell_type": "code",
   "execution_count": 648,
   "id": "5ccbc70d-6845-4f15-b7bb-b374e5b678c6",
   "metadata": {},
   "outputs": [
    {
     "data": {
      "text/plain": [
       "Suburb              0\n",
       "Rooms               0\n",
       "Type                0\n",
       "Price               0\n",
       "Date                0\n",
       "Distance            0\n",
       "Bedroom2            0\n",
       "Bathroom            0\n",
       "Car                 0\n",
       "Landsize            0\n",
       "YearBuilt        8728\n",
       "Lattitude           0\n",
       "Longtitude          0\n",
       "Regionname          0\n",
       "Propertycount       0\n",
       "dtype: int64"
      ]
     },
     "execution_count": 648,
     "metadata": {},
     "output_type": "execute_result"
    }
   ],
   "source": [
    "df_clean.isnull().sum()"
   ]
  },
  {
   "cell_type": "markdown",
   "id": "77af8dd9-66ee-4687-885c-e46f3db3e493",
   "metadata": {},
   "source": [
    "#### Modifying the YearBuilt column"
   ]
  },
  {
   "cell_type": "markdown",
   "id": "9e7b4bd5-ffa7-4162-bded-2cd0e35a6f47",
   "metadata": {},
   "source": [
    "The YearBuilt column has quite a few missing values and would suggest that this column be dropped however, based on the correlation matrix in the data exploration section, the year the building was built (or better yet, the property's age) seems to play a significant role in determining the price.\n",
    "\n",
    "A proposed solution is to convert the YearBuilt column into a categorical representation of the property age and include a category for if the YearBuilt was missing."
   ]
  },
  {
   "cell_type": "code",
   "execution_count": 649,
   "id": "e34e8e35-34af-43cb-87cd-4217d9fa7712",
   "metadata": {},
   "outputs": [
    {
     "data": {
      "text/plain": [
       "count    12084.000000\n",
       "mean      1966.609153\n",
       "std         36.762373\n",
       "min       1196.000000\n",
       "25%       1950.000000\n",
       "50%       1970.000000\n",
       "75%       2000.000000\n",
       "max       2019.000000\n",
       "Name: YearBuilt, dtype: float64"
      ]
     },
     "execution_count": 649,
     "metadata": {},
     "output_type": "execute_result"
    }
   ],
   "source": [
    "df_clean[\"YearBuilt\"].describe()"
   ]
  },
  {
   "cell_type": "code",
   "execution_count": 650,
   "id": "cf03480f-c1f7-4ce3-a83f-0279bdb9f5ed",
   "metadata": {},
   "outputs": [],
   "source": [
    "def categorize_year(x):\n",
    "    if np.isnan(x):\n",
    "        return np.nan\n",
    "\n",
    "    if x >= 2000:\n",
    "        return \"2000-2020\"\n",
    "\n",
    "    if x < 2000 and x >= 1980:\n",
    "        return \"1980-1999\"\n",
    "\n",
    "    if x < 1980 and x >= 1960:\n",
    "        return \"1960-1979\"\n",
    "\n",
    "    if x < 1960 and x >= 1940:\n",
    "        return \"1940-1959\"\n",
    "\n",
    "    return \"before 1940\"\n"
   ]
  },
  {
   "cell_type": "code",
   "execution_count": 651,
   "id": "3a1d1ce2-cb1c-4a4b-aa4e-8ff310257e2b",
   "metadata": {},
   "outputs": [],
   "source": [
    "df_clean[\"PeriodBuilt\"] =  df_clean.YearBuilt.apply(categorize_year)"
   ]
  },
  {
   "cell_type": "code",
   "execution_count": 652,
   "id": "f4b193c5-094b-4f32-bf79-b4dc68cf6485",
   "metadata": {},
   "outputs": [
    {
     "data": {
      "text/plain": [
       "PeriodBuilt\n",
       "2000-2020      3130\n",
       "1960-1979      3081\n",
       "before 1940    2542\n",
       "1980-1999      1864\n",
       "1940-1959      1467\n",
       "Name: count, dtype: int64"
      ]
     },
     "execution_count": 652,
     "metadata": {},
     "output_type": "execute_result"
    }
   ],
   "source": [
    "df_clean.PeriodBuilt.value_counts()"
   ]
  },
  {
   "cell_type": "code",
   "execution_count": 653,
   "id": "1bedb4c6-c007-4d7e-9af0-82f7590a35a2",
   "metadata": {},
   "outputs": [],
   "source": [
    "# drop the YearBuilt Column\n",
    "df_clean.drop(\"YearBuilt\", axis=1, inplace=True)"
   ]
  },
  {
   "cell_type": "code",
   "execution_count": 654,
   "id": "c9324ab6-eca9-46be-b675-71820f476fd2",
   "metadata": {},
   "outputs": [
    {
     "data": {
      "text/plain": [
       "Suburb              0\n",
       "Rooms               0\n",
       "Type                0\n",
       "Price               0\n",
       "Date                0\n",
       "Distance            0\n",
       "Bedroom2            0\n",
       "Bathroom            0\n",
       "Car                 0\n",
       "Landsize            0\n",
       "Lattitude           0\n",
       "Longtitude          0\n",
       "Regionname          0\n",
       "Propertycount       0\n",
       "PeriodBuilt      8728\n",
       "dtype: int64"
      ]
     },
     "execution_count": 654,
     "metadata": {},
     "output_type": "execute_result"
    }
   ],
   "source": [
    "df_clean.isnull().sum()"
   ]
  },
  {
   "cell_type": "markdown",
   "id": "2f7589e4-ce69-4232-9dcd-862bc45b9c8f",
   "metadata": {},
   "source": [
    "### 4. One-hot Encoding Categorical Attributes"
   ]
  },
  {
   "cell_type": "code",
   "execution_count": 666,
   "id": "ad394245-3d14-4dbd-936a-d480eab011f4",
   "metadata": {},
   "outputs": [],
   "source": [
    "df_clean = pd.get_dummies(df_clean)"
   ]
  },
  {
   "cell_type": "markdown",
   "id": "af73c82d-4007-47b3-b532-e6f95391a612",
   "metadata": {},
   "source": [
    "## Cleaned Data"
   ]
  },
  {
   "cell_type": "code",
   "execution_count": 670,
   "id": "fa67346d-2d9f-444f-afd6-49847e147dce",
   "metadata": {},
   "outputs": [
    {
     "data": {
      "text/html": [
       "<div>\n",
       "<style scoped>\n",
       "    .dataframe tbody tr th:only-of-type {\n",
       "        vertical-align: middle;\n",
       "    }\n",
       "\n",
       "    .dataframe tbody tr th {\n",
       "        vertical-align: top;\n",
       "    }\n",
       "\n",
       "    .dataframe thead th {\n",
       "        text-align: right;\n",
       "    }\n",
       "</style>\n",
       "<table border=\"1\" class=\"dataframe\">\n",
       "  <thead>\n",
       "    <tr style=\"text-align: right;\">\n",
       "      <th></th>\n",
       "      <th>Rooms</th>\n",
       "      <th>Price</th>\n",
       "      <th>Distance</th>\n",
       "      <th>Bedroom2</th>\n",
       "      <th>Bathroom</th>\n",
       "      <th>Car</th>\n",
       "      <th>Landsize</th>\n",
       "      <th>Lattitude</th>\n",
       "      <th>Longtitude</th>\n",
       "      <th>Propertycount</th>\n",
       "      <th>...</th>\n",
       "      <th>Regionname_Northern Victoria</th>\n",
       "      <th>Regionname_South-Eastern Metropolitan</th>\n",
       "      <th>Regionname_Southern Metropolitan</th>\n",
       "      <th>Regionname_Western Metropolitan</th>\n",
       "      <th>Regionname_Western Victoria</th>\n",
       "      <th>PeriodBuilt_1940-1959</th>\n",
       "      <th>PeriodBuilt_1960-1979</th>\n",
       "      <th>PeriodBuilt_1980-1999</th>\n",
       "      <th>PeriodBuilt_2000-2020</th>\n",
       "      <th>PeriodBuilt_before 1940</th>\n",
       "    </tr>\n",
       "  </thead>\n",
       "  <tbody>\n",
       "    <tr>\n",
       "      <th>1</th>\n",
       "      <td>2</td>\n",
       "      <td>1480000.0</td>\n",
       "      <td>2.5</td>\n",
       "      <td>2.0</td>\n",
       "      <td>1.0</td>\n",
       "      <td>1.0</td>\n",
       "      <td>202.0</td>\n",
       "      <td>-37.7996</td>\n",
       "      <td>144.9984</td>\n",
       "      <td>4019.0</td>\n",
       "      <td>...</td>\n",
       "      <td>False</td>\n",
       "      <td>False</td>\n",
       "      <td>False</td>\n",
       "      <td>False</td>\n",
       "      <td>False</td>\n",
       "      <td>False</td>\n",
       "      <td>False</td>\n",
       "      <td>False</td>\n",
       "      <td>False</td>\n",
       "      <td>False</td>\n",
       "    </tr>\n",
       "    <tr>\n",
       "      <th>2</th>\n",
       "      <td>2</td>\n",
       "      <td>1035000.0</td>\n",
       "      <td>2.5</td>\n",
       "      <td>2.0</td>\n",
       "      <td>1.0</td>\n",
       "      <td>0.0</td>\n",
       "      <td>156.0</td>\n",
       "      <td>-37.8079</td>\n",
       "      <td>144.9934</td>\n",
       "      <td>4019.0</td>\n",
       "      <td>...</td>\n",
       "      <td>False</td>\n",
       "      <td>False</td>\n",
       "      <td>False</td>\n",
       "      <td>False</td>\n",
       "      <td>False</td>\n",
       "      <td>False</td>\n",
       "      <td>False</td>\n",
       "      <td>False</td>\n",
       "      <td>False</td>\n",
       "      <td>True</td>\n",
       "    </tr>\n",
       "    <tr>\n",
       "      <th>4</th>\n",
       "      <td>3</td>\n",
       "      <td>1465000.0</td>\n",
       "      <td>2.5</td>\n",
       "      <td>3.0</td>\n",
       "      <td>2.0</td>\n",
       "      <td>0.0</td>\n",
       "      <td>134.0</td>\n",
       "      <td>-37.8093</td>\n",
       "      <td>144.9944</td>\n",
       "      <td>4019.0</td>\n",
       "      <td>...</td>\n",
       "      <td>False</td>\n",
       "      <td>False</td>\n",
       "      <td>False</td>\n",
       "      <td>False</td>\n",
       "      <td>False</td>\n",
       "      <td>False</td>\n",
       "      <td>False</td>\n",
       "      <td>False</td>\n",
       "      <td>False</td>\n",
       "      <td>True</td>\n",
       "    </tr>\n",
       "    <tr>\n",
       "      <th>5</th>\n",
       "      <td>3</td>\n",
       "      <td>850000.0</td>\n",
       "      <td>2.5</td>\n",
       "      <td>3.0</td>\n",
       "      <td>2.0</td>\n",
       "      <td>1.0</td>\n",
       "      <td>94.0</td>\n",
       "      <td>-37.7969</td>\n",
       "      <td>144.9969</td>\n",
       "      <td>4019.0</td>\n",
       "      <td>...</td>\n",
       "      <td>False</td>\n",
       "      <td>False</td>\n",
       "      <td>False</td>\n",
       "      <td>False</td>\n",
       "      <td>False</td>\n",
       "      <td>False</td>\n",
       "      <td>False</td>\n",
       "      <td>False</td>\n",
       "      <td>False</td>\n",
       "      <td>False</td>\n",
       "    </tr>\n",
       "    <tr>\n",
       "      <th>6</th>\n",
       "      <td>4</td>\n",
       "      <td>1600000.0</td>\n",
       "      <td>2.5</td>\n",
       "      <td>3.0</td>\n",
       "      <td>1.0</td>\n",
       "      <td>2.0</td>\n",
       "      <td>120.0</td>\n",
       "      <td>-37.8072</td>\n",
       "      <td>144.9941</td>\n",
       "      <td>4019.0</td>\n",
       "      <td>...</td>\n",
       "      <td>False</td>\n",
       "      <td>False</td>\n",
       "      <td>False</td>\n",
       "      <td>False</td>\n",
       "      <td>False</td>\n",
       "      <td>False</td>\n",
       "      <td>False</td>\n",
       "      <td>False</td>\n",
       "      <td>True</td>\n",
       "      <td>False</td>\n",
       "    </tr>\n",
       "  </tbody>\n",
       "</table>\n",
       "<p>5 rows × 442 columns</p>\n",
       "</div>"
      ],
      "text/plain": [
       "   Rooms      Price  Distance  Bedroom2  Bathroom  Car  Landsize  Lattitude  \\\n",
       "1      2  1480000.0       2.5       2.0       1.0  1.0     202.0   -37.7996   \n",
       "2      2  1035000.0       2.5       2.0       1.0  0.0     156.0   -37.8079   \n",
       "4      3  1465000.0       2.5       3.0       2.0  0.0     134.0   -37.8093   \n",
       "5      3   850000.0       2.5       3.0       2.0  1.0      94.0   -37.7969   \n",
       "6      4  1600000.0       2.5       3.0       1.0  2.0     120.0   -37.8072   \n",
       "\n",
       "   Longtitude  Propertycount  ...  Regionname_Northern Victoria  \\\n",
       "1    144.9984         4019.0  ...                         False   \n",
       "2    144.9934         4019.0  ...                         False   \n",
       "4    144.9944         4019.0  ...                         False   \n",
       "5    144.9969         4019.0  ...                         False   \n",
       "6    144.9941         4019.0  ...                         False   \n",
       "\n",
       "   Regionname_South-Eastern Metropolitan  Regionname_Southern Metropolitan  \\\n",
       "1                                  False                             False   \n",
       "2                                  False                             False   \n",
       "4                                  False                             False   \n",
       "5                                  False                             False   \n",
       "6                                  False                             False   \n",
       "\n",
       "   Regionname_Western Metropolitan  Regionname_Western Victoria  \\\n",
       "1                            False                        False   \n",
       "2                            False                        False   \n",
       "4                            False                        False   \n",
       "5                            False                        False   \n",
       "6                            False                        False   \n",
       "\n",
       "   PeriodBuilt_1940-1959  PeriodBuilt_1960-1979  PeriodBuilt_1980-1999  \\\n",
       "1                  False                  False                  False   \n",
       "2                  False                  False                  False   \n",
       "4                  False                  False                  False   \n",
       "5                  False                  False                  False   \n",
       "6                  False                  False                  False   \n",
       "\n",
       "   PeriodBuilt_2000-2020  PeriodBuilt_before 1940  \n",
       "1                  False                    False  \n",
       "2                  False                     True  \n",
       "4                  False                     True  \n",
       "5                  False                    False  \n",
       "6                   True                    False  \n",
       "\n",
       "[5 rows x 442 columns]"
      ]
     },
     "execution_count": 670,
     "metadata": {},
     "output_type": "execute_result"
    }
   ],
   "source": [
    "df_clean.head()"
   ]
  },
  {
   "cell_type": "code",
   "execution_count": null,
   "id": "52abe7c6-d6fc-4037-bbf4-746db806d285",
   "metadata": {},
   "outputs": [],
   "source": []
  }
 ],
 "metadata": {
  "kernelspec": {
   "display_name": "Python 3 (ipykernel)",
   "language": "python",
   "name": "python3"
  },
  "language_info": {
   "codemirror_mode": {
    "name": "ipython",
    "version": 3
   },
   "file_extension": ".py",
   "mimetype": "text/x-python",
   "name": "python",
   "nbconvert_exporter": "python",
   "pygments_lexer": "ipython3",
   "version": "3.10.13"
  }
 },
 "nbformat": 4,
 "nbformat_minor": 5
}
